{
 "cells": [
  {
   "cell_type": "code",
   "execution_count": null,
   "id": "eefba291",
   "metadata": {},
   "outputs": [],
   "source": [
    "n=int(input(\"Enter any number: \"))    \n",
    "fact=1    \n",
    "if n<0:    \n",
    "   print(\"Error\")    \n",
    "elif n==0:    \n",
    "   print(\"The factorial of number 0 is= 1\")    \n",
    "else:    \n",
    "   for i in range(1,n + 1):    \n",
    "       fact = fact*i    \n",
    "   print(\"The factorial of\",n,\"is=\",fact)"
   ]
  },
  {
   "cell_type": "code",
   "execution_count": null,
   "id": "5df1a176",
   "metadata": {},
   "outputs": [],
   "source": [
    "n = int(input(\"Enter any number: \"))\n",
    "if n > 1:\n",
    "    for i in range(2, int(n/2)+1):\n",
    "        if (n % i) == 0:\n",
    "            print(n, \"is not a prime number\")\n",
    "            break\n",
    "    else:\n",
    "        print(n, \"is a prime number\")\n",
    "else:\n",
    "    print(n, \"is not a prime number\")"
   ]
  },
  {
   "cell_type": "code",
   "execution_count": null,
   "id": "a97508a6",
   "metadata": {},
   "outputs": [],
   "source": [
    "def isPalindrome(s):\n",
    "    return s == s[::-1]\n",
    "\n",
    "s = input(\"Enter a String :\")\n",
    "ans = isPalindrome(s)\n",
    "\n",
    "if ans:\n",
    "    print(\"It is Palindrome\")\n",
    "else:\n",
    "    print(\"It is Not Palindrom\")"
   ]
  },
  {
   "cell_type": "code",
   "execution_count": null,
   "id": "3b028aa5",
   "metadata": {
    "scrolled": true
   },
   "outputs": [],
   "source": [
    "import math\n",
    "\n",
    "Base = float(input(\"Enter Base: \"))\n",
    "Height = float(input(\"Enter Height: \"))\n",
    "\n",
    "Hypotenuse = math.sqrt(Base ** 2 + Height ** 2)\n",
    "\n",
    "print(\"Hypotenuse of the Triangle=\", Hypotenuse)"
   ]
  },
  {
   "cell_type": "code",
   "execution_count": null,
   "id": "18bc4e54",
   "metadata": {},
   "outputs": [],
   "source": [
    "s = input(\"Enter a String Value: \")\n",
    "\n",
    "f = {}\n",
    "\n",
    "for i in s:\n",
    "    if i in f:\n",
    "        f[i] += 1\n",
    "    else:\n",
    "        f[i] = 1\n",
    "\n",
    "print (\"Count of all characters in\" ,s ,\"is : \"+ str(f))"
   ]
  }
 ],
 "metadata": {
  "kernelspec": {
   "display_name": "Python 3 (ipykernel)",
   "language": "python",
   "name": "python3"
  },
  "language_info": {
   "codemirror_mode": {
    "name": "ipython",
    "version": 3
   },
   "file_extension": ".py",
   "mimetype": "text/x-python",
   "name": "python",
   "nbconvert_exporter": "python",
   "pygments_lexer": "ipython3",
   "version": "3.9.7"
  }
 },
 "nbformat": 4,
 "nbformat_minor": 5
}
