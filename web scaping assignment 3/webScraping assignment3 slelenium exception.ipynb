{
 "cells": [
  {
   "cell_type": "code",
   "execution_count": 46,
   "id": "e0f46343",
   "metadata": {
    "collapsed": true
   },
   "outputs": [
    {
     "name": "stdout",
     "output_type": "stream",
     "text": [
      "Requirement already satisfied: bs4 in c:\\users\\shreyasi  saha\\anaconda3\\lib\\site-packages (0.0.1)\n",
      "Requirement already satisfied: beautifulsoup4 in c:\\users\\shreyasi  saha\\anaconda3\\lib\\site-packages (from bs4) (4.10.0)\n",
      "Requirement already satisfied: soupsieve>1.2 in c:\\users\\shreyasi  saha\\anaconda3\\lib\\site-packages (from beautifulsoup4->bs4) (2.2.1)\n"
     ]
    },
    {
     "name": "stderr",
     "output_type": "stream",
     "text": [
      "WARNING: Ignoring invalid distribution - (c:\\users\\shreyasi  saha\\anaconda3\\lib\\site-packages)\n",
      "WARNING: Ignoring invalid distribution -ffi (c:\\users\\shreyasi  saha\\anaconda3\\lib\\site-packages)\n",
      "WARNING: Ignoring invalid distribution - (c:\\users\\shreyasi  saha\\anaconda3\\lib\\site-packages)\n",
      "WARNING: Ignoring invalid distribution -ffi (c:\\users\\shreyasi  saha\\anaconda3\\lib\\site-packages)\n",
      "WARNING: Ignoring invalid distribution - (c:\\users\\shreyasi  saha\\anaconda3\\lib\\site-packages)\n",
      "WARNING: Ignoring invalid distribution -ffi (c:\\users\\shreyasi  saha\\anaconda3\\lib\\site-packages)\n",
      "WARNING: Ignoring invalid distribution - (c:\\users\\shreyasi  saha\\anaconda3\\lib\\site-packages)\n",
      "WARNING: Ignoring invalid distribution -ffi (c:\\users\\shreyasi  saha\\anaconda3\\lib\\site-packages)\n",
      "WARNING: Ignoring invalid distribution - (c:\\users\\shreyasi  saha\\anaconda3\\lib\\site-packages)\n",
      "WARNING: Ignoring invalid distribution -ffi (c:\\users\\shreyasi  saha\\anaconda3\\lib\\site-packages)\n",
      "WARNING: Ignoring invalid distribution - (c:\\users\\shreyasi  saha\\anaconda3\\lib\\site-packages)\n",
      "WARNING: Ignoring invalid distribution -ffi (c:\\users\\shreyasi  saha\\anaconda3\\lib\\site-packages)\n"
     ]
    },
    {
     "name": "stdout",
     "output_type": "stream",
     "text": [
      "Requirement already satisfied: requests in c:\\users\\shreyasi  saha\\anaconda3\\lib\\site-packages (2.26.0)\n",
      "Requirement already satisfied: certifi>=2017.4.17 in c:\\users\\shreyasi  saha\\anaconda3\\lib\\site-packages (from requests) (2022.9.24)\n",
      "Requirement already satisfied: urllib3<1.27,>=1.21.1 in c:\\users\\shreyasi  saha\\anaconda3\\lib\\site-packages (from requests) (1.26.12)\n",
      "Requirement already satisfied: idna<4,>=2.5 in c:\\users\\shreyasi  saha\\anaconda3\\lib\\site-packages (from requests) (3.4)\n",
      "Requirement already satisfied: charset-normalizer~=2.0.0 in c:\\users\\shreyasi  saha\\anaconda3\\lib\\site-packages (from requests) (2.0.4)\n"
     ]
    },
    {
     "name": "stderr",
     "output_type": "stream",
     "text": [
      "WARNING: Ignoring invalid distribution - (c:\\users\\shreyasi  saha\\anaconda3\\lib\\site-packages)\n",
      "WARNING: Ignoring invalid distribution -ffi (c:\\users\\shreyasi  saha\\anaconda3\\lib\\site-packages)\n",
      "WARNING: Ignoring invalid distribution - (c:\\users\\shreyasi  saha\\anaconda3\\lib\\site-packages)\n",
      "WARNING: Ignoring invalid distribution -ffi (c:\\users\\shreyasi  saha\\anaconda3\\lib\\site-packages)\n",
      "WARNING: Ignoring invalid distribution - (c:\\users\\shreyasi  saha\\anaconda3\\lib\\site-packages)\n",
      "WARNING: Ignoring invalid distribution -ffi (c:\\users\\shreyasi  saha\\anaconda3\\lib\\site-packages)\n",
      "WARNING: Ignoring invalid distribution - (c:\\users\\shreyasi  saha\\anaconda3\\lib\\site-packages)\n",
      "WARNING: Ignoring invalid distribution -ffi (c:\\users\\shreyasi  saha\\anaconda3\\lib\\site-packages)\n",
      "WARNING: Ignoring invalid distribution - (c:\\users\\shreyasi  saha\\anaconda3\\lib\\site-packages)\n",
      "WARNING: Ignoring invalid distribution -ffi (c:\\users\\shreyasi  saha\\anaconda3\\lib\\site-packages)\n",
      "WARNING: Ignoring invalid distribution - (c:\\users\\shreyasi  saha\\anaconda3\\lib\\site-packages)\n",
      "WARNING: Ignoring invalid distribution -ffi (c:\\users\\shreyasi  saha\\anaconda3\\lib\\site-packages)\n"
     ]
    },
    {
     "name": "stdout",
     "output_type": "stream",
     "text": [
      "Requirement already satisfied: urllib3 in c:\\users\\shreyasi  saha\\anaconda3\\lib\\site-packages (1.26.12)\n"
     ]
    },
    {
     "name": "stderr",
     "output_type": "stream",
     "text": [
      "WARNING: Ignoring invalid distribution - (c:\\users\\shreyasi  saha\\anaconda3\\lib\\site-packages)\n",
      "WARNING: Ignoring invalid distribution -ffi (c:\\users\\shreyasi  saha\\anaconda3\\lib\\site-packages)\n",
      "WARNING: Ignoring invalid distribution - (c:\\users\\shreyasi  saha\\anaconda3\\lib\\site-packages)\n",
      "WARNING: Ignoring invalid distribution -ffi (c:\\users\\shreyasi  saha\\anaconda3\\lib\\site-packages)\n",
      "WARNING: Ignoring invalid distribution - (c:\\users\\shreyasi  saha\\anaconda3\\lib\\site-packages)\n",
      "WARNING: Ignoring invalid distribution -ffi (c:\\users\\shreyasi  saha\\anaconda3\\lib\\site-packages)\n",
      "WARNING: Ignoring invalid distribution - (c:\\users\\shreyasi  saha\\anaconda3\\lib\\site-packages)\n",
      "WARNING: Ignoring invalid distribution -ffi (c:\\users\\shreyasi  saha\\anaconda3\\lib\\site-packages)\n",
      "WARNING: Ignoring invalid distribution - (c:\\users\\shreyasi  saha\\anaconda3\\lib\\site-packages)\n",
      "WARNING: Ignoring invalid distribution -ffi (c:\\users\\shreyasi  saha\\anaconda3\\lib\\site-packages)\n",
      "WARNING: Ignoring invalid distribution - (c:\\users\\shreyasi  saha\\anaconda3\\lib\\site-packages)\n",
      "WARNING: Ignoring invalid distribution -ffi (c:\\users\\shreyasi  saha\\anaconda3\\lib\\site-packages)\n"
     ]
    },
    {
     "name": "stdout",
     "output_type": "stream",
     "text": [
      "Requirement already satisfied: selenium in c:\\users\\shreyasi  saha\\anaconda3\\lib\\site-packages (4.2.0)\n",
      "Requirement already satisfied: urllib3[secure,socks]~=1.26 in c:\\users\\shreyasi  saha\\anaconda3\\lib\\site-packages (from selenium) (1.26.12)\n",
      "Requirement already satisfied: trio-websocket~=0.9 in c:\\users\\shreyasi  saha\\anaconda3\\lib\\site-packages (from selenium) (0.9.2)\n",
      "Requirement already satisfied: trio~=0.17 in c:\\users\\shreyasi  saha\\anaconda3\\lib\\site-packages (from selenium) (0.22.0)\n",
      "Requirement already satisfied: cffi>=1.14 in c:\\users\\shreyasi  saha\\anaconda3\\lib\\site-packages (from trio~=0.17->selenium) (1.15.1)\n",
      "Requirement already satisfied: sortedcontainers in c:\\users\\shreyasi  saha\\anaconda3\\lib\\site-packages (from trio~=0.17->selenium) (2.4.0)\n",
      "Requirement already satisfied: idna in c:\\users\\shreyasi  saha\\anaconda3\\lib\\site-packages (from trio~=0.17->selenium) (3.4)\n",
      "Requirement already satisfied: sniffio in c:\\users\\shreyasi  saha\\anaconda3\\lib\\site-packages (from trio~=0.17->selenium) (1.3.0)\n",
      "Requirement already satisfied: attrs>=19.2.0 in c:\\users\\shreyasi  saha\\anaconda3\\lib\\site-packages (from trio~=0.17->selenium) (22.1.0)\n",
      "Requirement already satisfied: async-generator>=1.9 in c:\\users\\shreyasi  saha\\anaconda3\\lib\\site-packages (from trio~=0.17->selenium) (1.10)\n",
      "Requirement already satisfied: exceptiongroup>=1.0.0rc9 in c:\\users\\shreyasi  saha\\anaconda3\\lib\\site-packages (from trio~=0.17->selenium) (1.0.0rc9)\n",
      "Requirement already satisfied: outcome in c:\\users\\shreyasi  saha\\anaconda3\\lib\\site-packages (from trio~=0.17->selenium) (1.2.0)\n",
      "Requirement already satisfied: pycparser in c:\\users\\shreyasi  saha\\anaconda3\\lib\\site-packages (from cffi>=1.14->trio~=0.17->selenium) (2.21)\n",
      "Requirement already satisfied: wsproto>=0.14 in c:\\users\\shreyasi  saha\\anaconda3\\lib\\site-packages (from trio-websocket~=0.9->selenium) (1.2.0)\n",
      "Requirement already satisfied: PySocks!=1.5.7,<2.0,>=1.5.6 in c:\\users\\shreyasi  saha\\anaconda3\\lib\\site-packages (from urllib3[secure,socks]~=1.26->selenium) (1.7.1)\n",
      "Requirement already satisfied: certifi in c:\\users\\shreyasi  saha\\anaconda3\\lib\\site-packages (from urllib3[secure,socks]~=1.26->selenium) (2022.9.24)\n",
      "Requirement already satisfied: pyOpenSSL>=0.14 in c:\\users\\shreyasi  saha\\anaconda3\\lib\\site-packages (from urllib3[secure,socks]~=1.26->selenium) (22.1.0)\n",
      "Requirement already satisfied: urllib3-secure-extra in c:\\users\\shreyasi  saha\\anaconda3\\lib\\site-packages (from urllib3[secure,socks]~=1.26->selenium) (0.1.0)\n",
      "Requirement already satisfied: cryptography>=1.3.4 in c:\\users\\shreyasi  saha\\anaconda3\\lib\\site-packages (from urllib3[secure,socks]~=1.26->selenium) (38.0.1)\n",
      "Requirement already satisfied: h11<1,>=0.9.0 in c:\\users\\shreyasi  saha\\anaconda3\\lib\\site-packages (from wsproto>=0.14->trio-websocket~=0.9->selenium) (0.14.0)\n"
     ]
    },
    {
     "name": "stderr",
     "output_type": "stream",
     "text": [
      "WARNING: Ignoring invalid distribution - (c:\\users\\shreyasi  saha\\anaconda3\\lib\\site-packages)\n",
      "WARNING: Ignoring invalid distribution -ffi (c:\\users\\shreyasi  saha\\anaconda3\\lib\\site-packages)\n",
      "WARNING: Ignoring invalid distribution - (c:\\users\\shreyasi  saha\\anaconda3\\lib\\site-packages)\n",
      "WARNING: Ignoring invalid distribution -ffi (c:\\users\\shreyasi  saha\\anaconda3\\lib\\site-packages)\n",
      "WARNING: Ignoring invalid distribution - (c:\\users\\shreyasi  saha\\anaconda3\\lib\\site-packages)\n",
      "WARNING: Ignoring invalid distribution -ffi (c:\\users\\shreyasi  saha\\anaconda3\\lib\\site-packages)\n",
      "WARNING: Ignoring invalid distribution - (c:\\users\\shreyasi  saha\\anaconda3\\lib\\site-packages)\n",
      "WARNING: Ignoring invalid distribution -ffi (c:\\users\\shreyasi  saha\\anaconda3\\lib\\site-packages)\n",
      "WARNING: Ignoring invalid distribution - (c:\\users\\shreyasi  saha\\anaconda3\\lib\\site-packages)\n",
      "WARNING: Ignoring invalid distribution -ffi (c:\\users\\shreyasi  saha\\anaconda3\\lib\\site-packages)\n",
      "WARNING: Ignoring invalid distribution - (c:\\users\\shreyasi  saha\\anaconda3\\lib\\site-packages)\n",
      "WARNING: Ignoring invalid distribution -ffi (c:\\users\\shreyasi  saha\\anaconda3\\lib\\site-packages)\n"
     ]
    }
   ],
   "source": [
    "!pip install bs4\n",
    "!pip install requests\n",
    "!pip install urllib3\n",
    "!pip install selenium"
   ]
  },
  {
   "cell_type": "markdown",
   "id": "4a64fd9e",
   "metadata": {},
   "source": [
    "# 1.Write a python program which searches all the product under a particular product from www.amazon.in.\n",
    "The product to be searched will be taken as input from user. For e.g. If user input is ‘guitar’. Then search for guitars."
   ]
  },
  {
   "cell_type": "code",
   "execution_count": 75,
   "id": "c3ae4afe",
   "metadata": {
    "collapsed": true
   },
   "outputs": [],
   "source": [
    "import urllib.request\n",
    "import base64\n",
    "import pandas as pd\n",
    "import selenium\n",
    "from selenium import webdriver\n",
    "from selenium.webdriver.common.keys import Keys\n",
    "from selenium.webdriver.common.by import By\n",
    "from selenium.common.exceptions import StaleElementReferenceException, NoSuchElementException\n",
    "import warnings\n",
    "warnings.filterwarnings(\"ignore\")"
   ]
  },
  {
   "cell_type": "code",
   "execution_count": 48,
   "id": "faf231ed",
   "metadata": {
    "collapsed": true
   },
   "outputs": [],
   "source": [
    "driver=webdriver.Chrome(\"chromedriver.exe\")"
   ]
  },
  {
   "cell_type": "code",
   "execution_count": 49,
   "id": "7006fd8e",
   "metadata": {
    "collapsed": true
   },
   "outputs": [],
   "source": [
    "url = \"https://www.amazon.in\" \n",
    "driver.get(url)"
   ]
  },
  {
   "cell_type": "code",
   "execution_count": 50,
   "id": "4824fcd3",
   "metadata": {
    "collapsed": true
   },
   "outputs": [],
   "source": [
    "search_bar = driver.find_element(By.ID,\"twotabsearchtextbox\")    # Locating searc_bar by id\n",
    "search_bar.clear()                                               # clearing search_bar\n",
    "search_bar.send_keys(\"guitar\") "
   ]
  },
  {
   "cell_type": "code",
   "execution_count": 51,
   "id": "424c1f94",
   "metadata": {
    "collapsed": true
   },
   "outputs": [],
   "source": [
    "search_button = driver.find_element(By.XPATH,'//span[@id=\"nav-search-submit-text\"]')       # Locating search_button by xpath\n",
    "search_button.click()"
   ]
  },
  {
   "cell_type": "code",
   "execution_count": 72,
   "id": "dc94a736",
   "metadata": {
    "collapsed": true
   },
   "outputs": [
    {
     "ename": "NoSuchElementException",
     "evalue": "Message: no such element: Unable to locate element: {\"method\":\"css selector\",\"selector\":\".s-pagination-item\"}\n  (Session info: chrome=106.0.5249.119)\nStacktrace:\nBacktrace:\n\tOrdinal0 [0x00CC1353+2233171]\n\tOrdinal0 [0x00C58E31+1805873]\n\tOrdinal0 [0x00B666FD+812797]\n\tOrdinal0 [0x00B955DF+1005023]\n\tOrdinal0 [0x00B957CB+1005515]\n\tOrdinal0 [0x00BC7632+1209906]\n\tOrdinal0 [0x00BB1AD4+1120980]\n\tOrdinal0 [0x00BC59E2+1202658]\n\tOrdinal0 [0x00BB18A6+1120422]\n\tOrdinal0 [0x00B8A73D+960317]\n\tOrdinal0 [0x00B8B71F+964383]\n\tGetHandleVerifier [0x00F6A2C2+2728322]\n\tGetHandleVerifier [0x00F5C184+2670660]\n\tGetHandleVerifier [0x00D5102A+528106]\n\tGetHandleVerifier [0x00D4FE10+523472]\n\tOrdinal0 [0x00C6028C+1835660]\n\tOrdinal0 [0x00C64758+1853272]\n\tOrdinal0 [0x00C64845+1853509]\n\tOrdinal0 [0x00C6E7E4+1894372]\n\tBaseThreadInitThunk [0x766D7BA9+25]\n\tRtlInitializeExceptionChain [0x7785BB3B+107]\n\tRtlClearBits [0x7785BABF+191]\n",
     "output_type": "error",
     "traceback": [
      "\u001b[1;31m---------------------------------------------------------------------------\u001b[0m",
      "\u001b[1;31mNoSuchElementException\u001b[0m                    Traceback (most recent call last)",
      "\u001b[1;32mC:\\Users\\SHREYA~1\\AppData\\Local\\Temp/ipykernel_14788/1555371957.py\u001b[0m in \u001b[0;36m<module>\u001b[1;34m\u001b[0m\n\u001b[0;32m      4\u001b[0m \u001b[1;31m#time.sleep(5)\u001b[0m\u001b[1;33m\u001b[0m\u001b[1;33m\u001b[0m\u001b[0m\n\u001b[0;32m      5\u001b[0m \u001b[1;31m# scrape next pages urls\u001b[0m\u001b[1;33m\u001b[0m\u001b[1;33m\u001b[0m\u001b[0m\n\u001b[1;32m----> 6\u001b[1;33m \u001b[0mnxt_page\u001b[0m \u001b[1;33m=\u001b[0m \u001b[0mdriver\u001b[0m\u001b[1;33m.\u001b[0m\u001b[0mfind_element\u001b[0m\u001b[1;33m(\u001b[0m\u001b[0mBy\u001b[0m\u001b[1;33m.\u001b[0m\u001b[0mCLASS_NAME\u001b[0m\u001b[1;33m,\u001b[0m\u001b[1;34m\"s-pagination-item\"\u001b[0m\u001b[1;33m)\u001b[0m\u001b[1;33m\u001b[0m\u001b[1;33m\u001b[0m\u001b[0m\n\u001b[0m\u001b[0;32m      7\u001b[0m \u001b[1;32mfor\u001b[0m \u001b[0mi\u001b[0m \u001b[1;32min\u001b[0m \u001b[0mnxt_page\u001b[0m\u001b[1;33m:\u001b[0m\u001b[1;33m\u001b[0m\u001b[1;33m\u001b[0m\u001b[0m\n\u001b[0;32m      8\u001b[0m     \u001b[0mpage\u001b[0m\u001b[1;33m.\u001b[0m\u001b[0mappend\u001b[0m\u001b[1;33m(\u001b[0m\u001b[0mi\u001b[0m\u001b[1;33m.\u001b[0m\u001b[0mget_attribute\u001b[0m\u001b[1;33m(\u001b[0m\u001b[1;34m'href'\u001b[0m\u001b[1;33m)\u001b[0m\u001b[1;33m)\u001b[0m\u001b[1;33m\u001b[0m\u001b[1;33m\u001b[0m\u001b[0m\n",
      "\u001b[1;32m~\\anaconda3\\lib\\site-packages\\selenium\\webdriver\\remote\\webdriver.py\u001b[0m in \u001b[0;36mfind_element\u001b[1;34m(self, by, value)\u001b[0m\n\u001b[0;32m    854\u001b[0m         \u001b[0mself\u001b[0m\u001b[1;33m.\u001b[0m\u001b[0mpinned_scripts\u001b[0m\u001b[1;33m.\u001b[0m\u001b[0mpop\u001b[0m\u001b[1;33m(\u001b[0m\u001b[0mscript_key\u001b[0m\u001b[1;33m.\u001b[0m\u001b[0mid\u001b[0m\u001b[1;33m)\u001b[0m\u001b[1;33m\u001b[0m\u001b[1;33m\u001b[0m\u001b[0m\n\u001b[0;32m    855\u001b[0m \u001b[1;33m\u001b[0m\u001b[0m\n\u001b[1;32m--> 856\u001b[1;33m     \u001b[1;32mdef\u001b[0m \u001b[0mget_pinned_scripts\u001b[0m\u001b[1;33m(\u001b[0m\u001b[0mself\u001b[0m\u001b[1;33m)\u001b[0m \u001b[1;33m->\u001b[0m \u001b[0mList\u001b[0m\u001b[1;33m[\u001b[0m\u001b[0mstr\u001b[0m\u001b[1;33m]\u001b[0m\u001b[1;33m:\u001b[0m\u001b[1;33m\u001b[0m\u001b[1;33m\u001b[0m\u001b[0m\n\u001b[0m\u001b[0;32m    857\u001b[0m         \"\"\"\n\u001b[0;32m    858\u001b[0m \u001b[1;33m\u001b[0m\u001b[0m\n",
      "\u001b[1;32m~\\anaconda3\\lib\\site-packages\\selenium\\webdriver\\remote\\webdriver.py\u001b[0m in \u001b[0;36mexecute\u001b[1;34m(self, driver_command, params)\u001b[0m\n\u001b[0;32m    427\u001b[0m         \u001b[0mparams\u001b[0m \u001b[1;33m=\u001b[0m \u001b[0mself\u001b[0m\u001b[1;33m.\u001b[0m\u001b[0m_wrap_value\u001b[0m\u001b[1;33m(\u001b[0m\u001b[0mparams\u001b[0m\u001b[1;33m)\u001b[0m\u001b[1;33m\u001b[0m\u001b[1;33m\u001b[0m\u001b[0m\n\u001b[0;32m    428\u001b[0m         \u001b[0mresponse\u001b[0m \u001b[1;33m=\u001b[0m \u001b[0mself\u001b[0m\u001b[1;33m.\u001b[0m\u001b[0mcommand_executor\u001b[0m\u001b[1;33m.\u001b[0m\u001b[0mexecute\u001b[0m\u001b[1;33m(\u001b[0m\u001b[0mdriver_command\u001b[0m\u001b[1;33m,\u001b[0m \u001b[0mparams\u001b[0m\u001b[1;33m)\u001b[0m\u001b[1;33m\u001b[0m\u001b[1;33m\u001b[0m\u001b[0m\n\u001b[1;32m--> 429\u001b[1;33m         \u001b[1;32mif\u001b[0m \u001b[0mresponse\u001b[0m\u001b[1;33m:\u001b[0m\u001b[1;33m\u001b[0m\u001b[1;33m\u001b[0m\u001b[0m\n\u001b[0m\u001b[0;32m    430\u001b[0m             \u001b[0mself\u001b[0m\u001b[1;33m.\u001b[0m\u001b[0merror_handler\u001b[0m\u001b[1;33m.\u001b[0m\u001b[0mcheck_response\u001b[0m\u001b[1;33m(\u001b[0m\u001b[0mresponse\u001b[0m\u001b[1;33m)\u001b[0m\u001b[1;33m\u001b[0m\u001b[1;33m\u001b[0m\u001b[0m\n\u001b[0;32m    431\u001b[0m             response['value'] = self._unwrap_value(\n",
      "\u001b[1;32m~\\anaconda3\\lib\\site-packages\\selenium\\webdriver\\remote\\errorhandler.py\u001b[0m in \u001b[0;36mcheck_response\u001b[1;34m(self, response)\u001b[0m\n\u001b[0;32m    241\u001b[0m             \u001b[0malert_text\u001b[0m \u001b[1;33m=\u001b[0m \u001b[1;32mNone\u001b[0m\u001b[1;33m\u001b[0m\u001b[1;33m\u001b[0m\u001b[0m\n\u001b[0;32m    242\u001b[0m             \u001b[1;32mif\u001b[0m \u001b[1;34m'data'\u001b[0m \u001b[1;32min\u001b[0m \u001b[0mvalue\u001b[0m\u001b[1;33m:\u001b[0m\u001b[1;33m\u001b[0m\u001b[1;33m\u001b[0m\u001b[0m\n\u001b[1;32m--> 243\u001b[1;33m                 \u001b[0malert_text\u001b[0m \u001b[1;33m=\u001b[0m \u001b[0mvalue\u001b[0m\u001b[1;33m[\u001b[0m\u001b[1;34m'data'\u001b[0m\u001b[1;33m]\u001b[0m\u001b[1;33m.\u001b[0m\u001b[0mget\u001b[0m\u001b[1;33m(\u001b[0m\u001b[1;34m'text'\u001b[0m\u001b[1;33m)\u001b[0m\u001b[1;33m\u001b[0m\u001b[1;33m\u001b[0m\u001b[0m\n\u001b[0m\u001b[0;32m    244\u001b[0m             \u001b[1;32melif\u001b[0m \u001b[1;34m'alert'\u001b[0m \u001b[1;32min\u001b[0m \u001b[0mvalue\u001b[0m\u001b[1;33m:\u001b[0m\u001b[1;33m\u001b[0m\u001b[1;33m\u001b[0m\u001b[0m\n\u001b[0;32m    245\u001b[0m                 \u001b[0malert_text\u001b[0m \u001b[1;33m=\u001b[0m \u001b[0mvalue\u001b[0m\u001b[1;33m[\u001b[0m\u001b[1;34m'alert'\u001b[0m\u001b[1;33m]\u001b[0m\u001b[1;33m.\u001b[0m\u001b[0mget\u001b[0m\u001b[1;33m(\u001b[0m\u001b[1;34m'text'\u001b[0m\u001b[1;33m)\u001b[0m\u001b[1;33m\u001b[0m\u001b[1;33m\u001b[0m\u001b[0m\n",
      "\u001b[1;31mNoSuchElementException\u001b[0m: Message: no such element: Unable to locate element: {\"method\":\"css selector\",\"selector\":\".s-pagination-item\"}\n  (Session info: chrome=106.0.5249.119)\nStacktrace:\nBacktrace:\n\tOrdinal0 [0x00CC1353+2233171]\n\tOrdinal0 [0x00C58E31+1805873]\n\tOrdinal0 [0x00B666FD+812797]\n\tOrdinal0 [0x00B955DF+1005023]\n\tOrdinal0 [0x00B957CB+1005515]\n\tOrdinal0 [0x00BC7632+1209906]\n\tOrdinal0 [0x00BB1AD4+1120980]\n\tOrdinal0 [0x00BC59E2+1202658]\n\tOrdinal0 [0x00BB18A6+1120422]\n\tOrdinal0 [0x00B8A73D+960317]\n\tOrdinal0 [0x00B8B71F+964383]\n\tGetHandleVerifier [0x00F6A2C2+2728322]\n\tGetHandleVerifier [0x00F5C184+2670660]\n\tGetHandleVerifier [0x00D5102A+528106]\n\tGetHandleVerifier [0x00D4FE10+523472]\n\tOrdinal0 [0x00C6028C+1835660]\n\tOrdinal0 [0x00C64758+1853272]\n\tOrdinal0 [0x00C64845+1853509]\n\tOrdinal0 [0x00C6E7E4+1894372]\n\tBaseThreadInitThunk [0x766D7BA9+25]\n\tRtlInitializeExceptionChain [0x7785BB3B+107]\n\tRtlClearBits [0x7785BABF+191]\n"
     ]
    }
   ],
   "source": [
    "name=[]\n",
    "page = []\n",
    "\n",
    "#time.sleep(5)\n",
    "# scrape next pages urls\n",
    "nxt_page = driver.find_element(By.CLASS_NAME,\"s-pagination-item\")\n",
    "for i in nxt_page:\n",
    "    page.append(i.get_attribute('href'))\n",
    "    \n",
    "\n",
    "#for url in page_urls[:3]:\n",
    "   # driver.get(url)\n",
    "    Names=driver.find_element(By.TAG_NAME,\"h2\")  #for scrapping product names\n",
    "    for i in Names:\n",
    "        name.append(i.text)"
   ]
  },
  {
   "cell_type": "code",
   "execution_count": 56,
   "id": "e2f4fc7a",
   "metadata": {
    "collapsed": true
   },
   "outputs": [
    {
     "data": {
      "text/html": [
       "<div>\n",
       "<style scoped>\n",
       "    .dataframe tbody tr th:only-of-type {\n",
       "        vertical-align: middle;\n",
       "    }\n",
       "\n",
       "    .dataframe tbody tr th {\n",
       "        vertical-align: top;\n",
       "    }\n",
       "\n",
       "    .dataframe thead th {\n",
       "        text-align: right;\n",
       "    }\n",
       "</style>\n",
       "<table border=\"1\" class=\"dataframe\">\n",
       "  <thead>\n",
       "    <tr style=\"text-align: right;\">\n",
       "      <th></th>\n",
       "      <th>products_name</th>\n",
       "    </tr>\n",
       "  </thead>\n",
       "  <tbody>\n",
       "  </tbody>\n",
       "</table>\n",
       "</div>"
      ],
      "text/plain": [
       "Empty DataFrame\n",
       "Columns: [products_name]\n",
       "Index: []"
      ]
     },
     "execution_count": 56,
     "metadata": {},
     "output_type": "execute_result"
    }
   ],
   "source": [
    "df=pd.DataFrame()\n",
    "df['products_name']=name\n",
    "df"
   ]
  },
  {
   "cell_type": "code",
   "execution_count": null,
   "id": "151d8737",
   "metadata": {
    "collapsed": true
   },
   "outputs": [],
   "source": []
  },
  {
   "cell_type": "code",
   "execution_count": null,
   "id": "caf2ec96",
   "metadata": {
    "collapsed": true
   },
   "outputs": [],
   "source": []
  },
  {
   "cell_type": "code",
   "execution_count": null,
   "id": "892fc509",
   "metadata": {
    "collapsed": true
   },
   "outputs": [],
   "source": []
  },
  {
   "cell_type": "code",
   "execution_count": null,
   "id": "15949de9",
   "metadata": {
    "collapsed": true
   },
   "outputs": [],
   "source": []
  },
  {
   "cell_type": "markdown",
   "id": "be4b006b",
   "metadata": {},
   "source": [
    "# Q2 Write a python program to access the search bar and search button on images.google.com and scrape 10\n",
    "images each for keywords ‘fruits’, ‘cars’ and ‘Machine Learning’, ‘Guitar’, ‘Cakes’.\n"
   ]
  },
  {
   "cell_type": "code",
   "execution_count": 59,
   "id": "9a485e7a",
   "metadata": {
    "collapsed": true
   },
   "outputs": [],
   "source": [
    "import pandas as pd\n",
    "import selenium\n",
    "from selenium import webdriver\n",
    "from selenium.webdriver.common.keys import Keys\n",
    "from selenium.webdriver.common.by import By\n",
    "import warnings\n",
    "warnings.filterwarnings(\"ignore\")"
   ]
  },
  {
   "cell_type": "code",
   "execution_count": 60,
   "id": "b24e0c0e",
   "metadata": {
    "collapsed": true
   },
   "outputs": [],
   "source": [
    "driver=webdriver.Chrome(\"chromedriver.exe\")"
   ]
  },
  {
   "cell_type": "code",
   "execution_count": 62,
   "id": "1eba85d4",
   "metadata": {
    "collapsed": true
   },
   "outputs": [],
   "source": [
    "url='https://images.google.com'\n",
    "driver.get(url)"
   ]
  },
  {
   "cell_type": "code",
   "execution_count": 63,
   "id": "c5a0e556",
   "metadata": {
    "collapsed": true
   },
   "outputs": [
    {
     "data": {
      "text/plain": [
       "<selenium.webdriver.remote.webelement.WebElement (session=\"756a6df7084d3bbe534928cb94d05668\", element=\"03b50629-57d9-4ef0-8b20-5aeca09ec492\")>"
      ]
     },
     "execution_count": 63,
     "metadata": {},
     "output_type": "execute_result"
    }
   ],
   "source": [
    "search_fruits=driver.find_element(By.XPATH,'/html/body/div[1]/div[3]/form/div[1]/div[1]/div[1]/div/div[2]/input')\n",
    "search_fruits"
   ]
  },
  {
   "cell_type": "code",
   "execution_count": 64,
   "id": "4e9585a2",
   "metadata": {
    "collapsed": true
   },
   "outputs": [],
   "source": [
    "search_fruits.send_keys(\"cars\")"
   ]
  },
  {
   "cell_type": "code",
   "execution_count": 71,
   "id": "bde1be52",
   "metadata": {
    "collapsed": true
   },
   "outputs": [],
   "source": [
    "search_btn=driver.find_element(By.XPATH,'/html/body/div[1]/div[3]/form/div[1]/div[1]/div[1]/button/div/span')\n",
    "search_btn.click()"
   ]
  },
  {
   "cell_type": "code",
   "execution_count": 77,
   "id": "ce2ae7bc",
   "metadata": {
    "collapsed": true
   },
   "outputs": [
    {
     "ename": "TypeError",
     "evalue": "'WebElement' object is not iterable",
     "output_type": "error",
     "traceback": [
      "\u001b[1;31m---------------------------------------------------------------------------\u001b[0m",
      "\u001b[1;31mTypeError\u001b[0m                                 Traceback (most recent call last)",
      "\u001b[1;32mC:\\Users\\SHREYA~1\\AppData\\Local\\Temp/ipykernel_14788/2512802798.py\u001b[0m in \u001b[0;36m<module>\u001b[1;34m\u001b[0m\n\u001b[0;32m      1\u001b[0m \u001b[0mimgs\u001b[0m \u001b[1;33m=\u001b[0m \u001b[0mdriver\u001b[0m\u001b[1;33m.\u001b[0m\u001b[0mfind_element\u001b[0m\u001b[1;33m(\u001b[0m\u001b[0mBy\u001b[0m\u001b[1;33m.\u001b[0m\u001b[0mTAG_NAME\u001b[0m\u001b[1;33m,\u001b[0m\u001b[1;34m\"img\"\u001b[0m\u001b[1;33m)\u001b[0m\u001b[1;33m\u001b[0m\u001b[1;33m\u001b[0m\u001b[0m\n\u001b[0;32m      2\u001b[0m \u001b[0mreturnImgs\u001b[0m \u001b[1;33m=\u001b[0m \u001b[1;33m[\u001b[0m\u001b[1;33m]\u001b[0m\u001b[1;33m\u001b[0m\u001b[1;33m\u001b[0m\u001b[0m\n\u001b[1;32m----> 3\u001b[1;33m \u001b[1;32mfor\u001b[0m \u001b[0mimg\u001b[0m \u001b[1;32min\u001b[0m \u001b[0mimgs\u001b[0m\u001b[1;33m:\u001b[0m\u001b[1;33m\u001b[0m\u001b[1;33m\u001b[0m\u001b[0m\n\u001b[0m\u001b[0;32m      4\u001b[0m     \u001b[0mreturnImgs\u001b[0m\u001b[1;33m.\u001b[0m\u001b[0mappend\u001b[0m\u001b[1;33m(\u001b[0m\u001b[0mimg\u001b[0m\u001b[1;33m.\u001b[0m\u001b[0mget_attribute\u001b[0m\u001b[1;33m(\u001b[0m\u001b[1;34m'src'\u001b[0m\u001b[1;33m)\u001b[0m\u001b[1;33m)\u001b[0m\u001b[1;33m\u001b[0m\u001b[1;33m\u001b[0m\u001b[0m\n\u001b[0;32m      5\u001b[0m     \u001b[0mprint\u001b[0m\u001b[1;33m(\u001b[0m\u001b[0mimg\u001b[0m\u001b[1;33m.\u001b[0m\u001b[0mget_attribute\u001b[0m\u001b[1;33m(\u001b[0m\u001b[1;34m'src'\u001b[0m\u001b[1;33m)\u001b[0m\u001b[1;33m)\u001b[0m\u001b[1;33m\u001b[0m\u001b[1;33m\u001b[0m\u001b[0m\n",
      "\u001b[1;31mTypeError\u001b[0m: 'WebElement' object is not iterable"
     ]
    }
   ],
   "source": [
    "imgs = driver.find_element(By.TAG_NAME,\"img\")\n",
    "returnImgs = []\n",
    "for img in imgs:\n",
    "    returnImgs.append(img.get_attribute('src'))\n",
    "    print(img.get_attribute('src'))"
   ]
  },
  {
   "cell_type": "code",
   "execution_count": 78,
   "id": "9203f1c0",
   "metadata": {
    "collapsed": true
   },
   "outputs": [],
   "source": [
    "elements = driver.find_element(By.XPATH, \"\"\"//*[@id=\"islrg\"]/div[1]/div[2]\"\"\")"
   ]
  },
  {
   "cell_type": "markdown",
   "id": "47ebe7dd",
   "metadata": {},
   "source": [
    "# 4.Write a python program to search for a smartphone(e.g.: Oneplus Nord, pixel 4A, etc.) on\n",
    "www.flipkart.com and scrape following details for all the search results displayed on 1st page. Details to be\n",
    "scraped: “Brand Name”, “Smartphone name”, “Colour”, “RAM”, “Storage(ROM)”, “Primary Camera”,\n",
    "“Secondary Camera”, “Display Size”, “Battery Capacity”, “Price”, “Product URL”. Incase if any of the\n",
    "details is missing then replace it by “- “. Save your results in a dataframe and CSV"
   ]
  },
  {
   "cell_type": "code",
   "execution_count": 186,
   "id": "03896923",
   "metadata": {
    "collapsed": true
   },
   "outputs": [],
   "source": [
    "driver=webdriver.Chrome(\"chromedriver.exe\")"
   ]
  },
  {
   "cell_type": "code",
   "execution_count": 187,
   "id": "178d869a",
   "metadata": {
    "collapsed": true
   },
   "outputs": [],
   "source": [
    "url='https://www.flipkart.com '\n",
    "driver.get(url)"
   ]
  },
  {
   "cell_type": "code",
   "execution_count": 188,
   "id": "6dc4e737",
   "metadata": {
    "collapsed": true
   },
   "outputs": [],
   "source": [
    "search_itm=driver.find_element_by_class_name(\"_3704LK\")\n",
    "\n",
    "search_itm.send_keys( \"Oneplus Nord, pixel 4A smartphone\")"
   ]
  },
  {
   "cell_type": "code",
   "execution_count": 189,
   "id": "e11e9592",
   "metadata": {
    "collapsed": true
   },
   "outputs": [],
   "source": [
    "search_btn=driver.find_element_by_class_name('L0Z3Pu')\n",
    "search_btn\n",
    "search_btn.click()"
   ]
  },
  {
   "cell_type": "markdown",
   "id": "7710c9db",
   "metadata": {},
   "source": [
    "no product found by this name"
   ]
  },
  {
   "cell_type": "markdown",
   "id": "42dd1346",
   "metadata": {},
   "source": [
    "# 5.Write a program to scrap geospatial coordinates (latitude, longitude) of a city searched on google\n",
    "maps"
   ]
  },
  {
   "cell_type": "code",
   "execution_count": 196,
   "id": "bddce089",
   "metadata": {
    "collapsed": true
   },
   "outputs": [],
   "source": [
    "driver=webdriver.Chrome(\"chromedriver.exe\")"
   ]
  },
  {
   "cell_type": "code",
   "execution_count": 197,
   "id": "52d69574",
   "metadata": {
    "collapsed": true
   },
   "outputs": [],
   "source": [
    "url='https://www.google.co.in/maps'\n",
    "driver.get(url)"
   ]
  },
  {
   "cell_type": "code",
   "execution_count": 198,
   "id": "f4586890",
   "metadata": {
    "collapsed": true
   },
   "outputs": [],
   "source": [
    "from time import sleep\n",
    "sleep(5)"
   ]
  },
  {
   "cell_type": "code",
   "execution_count": 199,
   "id": "e2367325",
   "metadata": {
    "collapsed": true
   },
   "outputs": [],
   "source": [
    "#search place like destination\n",
    "def searchplace():\n",
    "    Place = driver.find_element_by_class_name(\"tactile-searchbox-input\")\n",
    "    Place.send_keys(\"pune\")\n",
    "    Search = driver.find_element_by_class_name(\"nhb85d-BIqFsb\")\n",
    "    Search.click()\n",
    "searchplace()"
   ]
  },
  {
   "cell_type": "code",
   "execution_count": 201,
   "id": "997fe8c3",
   "metadata": {
    "collapsed": true
   },
   "outputs": [],
   "source": [
    "#for use the direction\n",
    "def directions():\n",
    "    sleep(10)\n",
    "    directions = driver.find_element_by_class_name(\"EgL07d\")\n",
    "    directions.click()\n",
    "directions()"
   ]
  },
  {
   "cell_type": "code",
   "execution_count": 209,
   "id": "e7926a59",
   "metadata": {
    "collapsed": true
   },
   "outputs": [],
   "source": [
    "#find the place like starting point\n",
    "def find():\n",
    "    sleep(10)\n",
    "    find = driver.find_element_by_xpath(\"/html/body/div[3]/div[9]/div[3]/div[1]/div[2]/div/div[3]/div[1]/div[1]/div[2]/div[1]/div/input\")\n",
    "       \n",
    "    find.send_keys(\"indore\")\n",
    "    sleep(5)\n",
    "    search = driver.find_element_by_xpath(\"/html/body/div[3]/div[9]/div[3]/div[1]/div[2]/div/div[3]/div[1]/div[1]/div[2]/button[1]\")\n",
    "       \n",
    "    search.click()\n",
    "find()"
   ]
  },
  {
   "cell_type": "markdown",
   "id": "fd191b4a",
   "metadata": {},
   "source": [
    "# 6.Write a program to scrap details of all the funding deals for second quarter (i.e Jan 21 – March 21)\n",
    "from trak.in."
   ]
  },
  {
   "cell_type": "code",
   "execution_count": 12,
   "id": "bba7a738",
   "metadata": {
    "collapsed": true
   },
   "outputs": [],
   "source": [
    "driver=webdriver.Chrome(\"chromedriver.exe\")"
   ]
  },
  {
   "cell_type": "code",
   "execution_count": 13,
   "id": "3ee9b8cf",
   "metadata": {
    "collapsed": true
   },
   "outputs": [],
   "source": [
    "url='https://www.trak.in'\n",
    "driver.get(url)"
   ]
  },
  {
   "cell_type": "code",
   "execution_count": 14,
   "id": "8393da73",
   "metadata": {
    "collapsed": true
   },
   "outputs": [],
   "source": [
    "from time import sleep\n",
    "sleep(5)\n",
    "more= driver.find_element_by_xpath(\"/html/body/div[1]/header/div[2]/div/div/div/div/nav/ul/li[9]/a\")\n",
    "       \n",
    "more.click()"
   ]
  },
  {
   "cell_type": "code",
   "execution_count": 67,
   "id": "055217c0",
   "metadata": {
    "collapsed": true
   },
   "outputs": [],
   "source": [
    "sleep(10)\n",
    "dates=[]\n",
    "date=driver.find_elements_by_class_name(\"column-2\")\n",
    "for i in date:\n",
    "    dates.append(i.text)\n",
    "\n",
    "name=[]\n",
    "s_name=driver.find_elements_by_class_name(\"column-3\")\n",
    "for i in s_name:\n",
    "    name.append(i.text)\n",
    "industry=[]\n",
    "indus=driver.find_elements_by_class_name(\"column-4\")\n",
    "for i in indus:\n",
    "    industry.append(i.text)\n",
    "subvertical=[]\n",
    "mode=driver.find_elements_by_class_name(\"column-5\")\n",
    "for i in mode:\n",
    "    subvertical.append(i.text)\n",
    "city=[]\n",
    "cty=driver.find_elements_by_class_name(\"column-6\")\n",
    "for i in cty:\n",
    "    city.append(i.text)\n",
    "investor=[]\n",
    "inve=driver.find_elements_by_class_name(\"column-7\")\n",
    "for i in inve:\n",
    "    investor.append(i.text)\n",
    "invst_type=[]\n",
    "typ=driver.find_elements_by_class_name(\"column-9\")\n",
    "for i in typ:\n",
    "    invst_type.append(i.text)\n",
    "    amount=[]\n",
    "amnt=driver.find_elements_by_class_name(\"column-9\")\n",
    "for i in amnt:\n",
    "    amount.append(i.text)"
   ]
  },
  {
   "cell_type": "code",
   "execution_count": 68,
   "id": "c516a7e1",
   "metadata": {
    "collapsed": true
   },
   "outputs": [],
   "source": [
    "df=pd.DataFrame({\n",
    "                'date':dates[7:39],\n",
    "                'startup name':name[7:39],\n",
    "    'industry':industry[7:39],\n",
    "    'sub vertical':subvertical[7:39],'city nmae':city[7:39],\n",
    "'investor name':investor[7:39],'investor type':invst_type[7:39],'amount in USD':amount[7:39]})"
   ]
  },
  {
   "cell_type": "code",
   "execution_count": 69,
   "id": "a7f1b57a",
   "metadata": {
    "collapsed": true
   },
   "outputs": [
    {
     "data": {
      "text/html": [
       "<div>\n",
       "<style scoped>\n",
       "    .dataframe tbody tr th:only-of-type {\n",
       "        vertical-align: middle;\n",
       "    }\n",
       "\n",
       "    .dataframe tbody tr th {\n",
       "        vertical-align: top;\n",
       "    }\n",
       "\n",
       "    .dataframe thead th {\n",
       "        text-align: right;\n",
       "    }\n",
       "</style>\n",
       "<table border=\"1\" class=\"dataframe\">\n",
       "  <thead>\n",
       "    <tr style=\"text-align: right;\">\n",
       "      <th></th>\n",
       "      <th>date</th>\n",
       "      <th>startup name</th>\n",
       "      <th>industry</th>\n",
       "      <th>sub vertical</th>\n",
       "      <th>city nmae</th>\n",
       "      <th>investor name</th>\n",
       "      <th>investor type</th>\n",
       "      <th>amount in USD</th>\n",
       "    </tr>\n",
       "  </thead>\n",
       "  <tbody>\n",
       "    <tr>\n",
       "      <th>0</th>\n",
       "      <td>Date (dd/mm/yyyy)</td>\n",
       "      <td>Startup Name</td>\n",
       "      <td>Industry / Vertical</td>\n",
       "      <td>Sub-Vertical</td>\n",
       "      <td>City / Location</td>\n",
       "      <td>Investors' Name</td>\n",
       "      <td>Amount (In USD)</td>\n",
       "      <td>Amount (In USD)</td>\n",
       "    </tr>\n",
       "    <tr>\n",
       "      <th>1</th>\n",
       "      <td></td>\n",
       "      <td></td>\n",
       "      <td></td>\n",
       "      <td></td>\n",
       "      <td></td>\n",
       "      <td></td>\n",
       "      <td></td>\n",
       "      <td></td>\n",
       "    </tr>\n",
       "    <tr>\n",
       "      <th>2</th>\n",
       "      <td>04/03/2021</td>\n",
       "      <td>DealShare</td>\n",
       "      <td>E-commerce</td>\n",
       "      <td>Online shopping platform</td>\n",
       "      <td>Jaipur, Rajasthan</td>\n",
       "      <td>Innoven Capital</td>\n",
       "      <td>250,000,000</td>\n",
       "      <td>250,000,000</td>\n",
       "    </tr>\n",
       "    <tr>\n",
       "      <th>3</th>\n",
       "      <td>31/03/2021</td>\n",
       "      <td>Uniphore</td>\n",
       "      <td>Technology</td>\n",
       "      <td>Conversational Service Automation (CSA)</td>\n",
       "      <td>Palo Alto</td>\n",
       "      <td>Sorenson Capital Partners</td>\n",
       "      <td>140,000,000</td>\n",
       "      <td>140,000,000</td>\n",
       "    </tr>\n",
       "    <tr>\n",
       "      <th>4</th>\n",
       "      <td>30/03/2021</td>\n",
       "      <td>Dunzo</td>\n",
       "      <td>E-commerce</td>\n",
       "      <td>Hyper-local delivery app</td>\n",
       "      <td>Bengaluru</td>\n",
       "      <td>Krishtal Advisors Pte Ltd</td>\n",
       "      <td>8,000,000</td>\n",
       "      <td>8,000,000</td>\n",
       "    </tr>\n",
       "    <tr>\n",
       "      <th>5</th>\n",
       "      <td>30/03/2021</td>\n",
       "      <td>BYJU’S</td>\n",
       "      <td>Edu-tech</td>\n",
       "      <td>Online tutoring</td>\n",
       "      <td>Bengaluru</td>\n",
       "      <td>MC Global Edtech, B Capital, Baron, others</td>\n",
       "      <td>460,000,000</td>\n",
       "      <td>460,000,000</td>\n",
       "    </tr>\n",
       "    <tr>\n",
       "      <th>6</th>\n",
       "      <td>23/03/2021</td>\n",
       "      <td>SkilloVilla</td>\n",
       "      <td>Edu-tech</td>\n",
       "      <td>Career and job-oriented upskilling.</td>\n",
       "      <td>Bengaluru</td>\n",
       "      <td>Titan Capital, others</td>\n",
       "      <td>300,000,000</td>\n",
       "      <td>300,000,000</td>\n",
       "    </tr>\n",
       "    <tr>\n",
       "      <th>7</th>\n",
       "      <td>25/03/2021</td>\n",
       "      <td>CityMall</td>\n",
       "      <td>E-commerce</td>\n",
       "      <td>Social ecommerce and online grocery platform</td>\n",
       "      <td>Gurgaon</td>\n",
       "      <td>Accel Partners</td>\n",
       "      <td>11,000,000</td>\n",
       "      <td>11,000,000</td>\n",
       "    </tr>\n",
       "    <tr>\n",
       "      <th>8</th>\n",
       "      <td>26/03/2021</td>\n",
       "      <td>DotPe</td>\n",
       "      <td>FinTech</td>\n",
       "      <td>Commerce and payments platform to offline ente...</td>\n",
       "      <td>Gurgaon</td>\n",
       "      <td>PayU</td>\n",
       "      <td>27,500,000</td>\n",
       "      <td>27,500,000</td>\n",
       "    </tr>\n",
       "    <tr>\n",
       "      <th>9</th>\n",
       "      <td>Date (dd/mm/yyyy)</td>\n",
       "      <td>Startup Name</td>\n",
       "      <td>Industry / Vertical</td>\n",
       "      <td>Sub-Vertical</td>\n",
       "      <td>City / Location</td>\n",
       "      <td>Investors' Name</td>\n",
       "      <td>Amount (In USD)</td>\n",
       "      <td>Amount (In USD)</td>\n",
       "    </tr>\n",
       "    <tr>\n",
       "      <th>10</th>\n",
       "      <td></td>\n",
       "      <td></td>\n",
       "      <td></td>\n",
       "      <td></td>\n",
       "      <td></td>\n",
       "      <td></td>\n",
       "      <td></td>\n",
       "      <td></td>\n",
       "    </tr>\n",
       "    <tr>\n",
       "      <th>11</th>\n",
       "      <td>11/02/2021</td>\n",
       "      <td>Doubtnut</td>\n",
       "      <td>Edu Tech</td>\n",
       "      <td>E-Learning Platform</td>\n",
       "      <td>Gurgaon</td>\n",
       "      <td>SIG Global, Sequoia Capital, WaterBridge Ventu...</td>\n",
       "      <td>2,500,000</td>\n",
       "      <td>2,500,000</td>\n",
       "    </tr>\n",
       "    <tr>\n",
       "      <th>12</th>\n",
       "      <td>22/02/2021</td>\n",
       "      <td>Zomato</td>\n",
       "      <td>Hospitality</td>\n",
       "      <td>Online Food Delivery Platform</td>\n",
       "      <td>Gurgaon</td>\n",
       "      <td>Tiger Global, Kora</td>\n",
       "      <td>250,000,000</td>\n",
       "      <td>250,000,000</td>\n",
       "    </tr>\n",
       "    <tr>\n",
       "      <th>13</th>\n",
       "      <td>19/02/2021</td>\n",
       "      <td>Fingerlix</td>\n",
       "      <td>Hospitality</td>\n",
       "      <td>Semi-cooked food delivery app</td>\n",
       "      <td>Mumbai</td>\n",
       "      <td>Rhodium Trust, Accel Partners and Swiggy</td>\n",
       "      <td>2,747,045.20</td>\n",
       "      <td>2,747,045.20</td>\n",
       "    </tr>\n",
       "    <tr>\n",
       "      <th>14</th>\n",
       "      <td>17/02/2021</td>\n",
       "      <td>Zolve</td>\n",
       "      <td>FinTech</td>\n",
       "      <td>Global Neobank Venture</td>\n",
       "      <td>Mumbai</td>\n",
       "      <td>Accel Partners and Lightspeed Venture Partners</td>\n",
       "      <td>1,50,00,000</td>\n",
       "      <td>1,50,00,000</td>\n",
       "    </tr>\n",
       "    <tr>\n",
       "      <th>15</th>\n",
       "      <td>15/02/2021</td>\n",
       "      <td>KreditBee</td>\n",
       "      <td>Finance</td>\n",
       "      <td>Digital lending platform</td>\n",
       "      <td>Bengaluru</td>\n",
       "      <td>Azim Premji’s PremjiInvest and South Korea’s M...</td>\n",
       "      <td>75,000,000</td>\n",
       "      <td>75,000,000</td>\n",
       "    </tr>\n",
       "    <tr>\n",
       "      <th>16</th>\n",
       "      <td>12/02/2021</td>\n",
       "      <td>Pepperfry</td>\n",
       "      <td>E-commerce</td>\n",
       "      <td>Multi-brand furniture brand</td>\n",
       "      <td>Mumbai</td>\n",
       "      <td>InnoVen Capital</td>\n",
       "      <td>4,773,958</td>\n",
       "      <td>4,773,958</td>\n",
       "    </tr>\n",
       "    <tr>\n",
       "      <th>17</th>\n",
       "      <td>12/02/2021</td>\n",
       "      <td>Grofers</td>\n",
       "      <td>E-Commerce</td>\n",
       "      <td>Online supermarket</td>\n",
       "      <td>Gurgaon</td>\n",
       "      <td>SoftBank Vision Fund (SVF)</td>\n",
       "      <td>55,000,000</td>\n",
       "      <td>55,000,000</td>\n",
       "    </tr>\n",
       "    <tr>\n",
       "      <th>18</th>\n",
       "      <td>09/02/2021</td>\n",
       "      <td>Nothing</td>\n",
       "      <td>Technology</td>\n",
       "      <td>Consumer Technology Venture</td>\n",
       "      <td>London</td>\n",
       "      <td>GV</td>\n",
       "      <td>15,000,000</td>\n",
       "      <td>15,000,000</td>\n",
       "    </tr>\n",
       "    <tr>\n",
       "      <th>19</th>\n",
       "      <td>09/02/2021</td>\n",
       "      <td>SplashLearn</td>\n",
       "      <td>EdTech</td>\n",
       "      <td>Game-based learning programme</td>\n",
       "      <td>Gurgaon</td>\n",
       "      <td>Owl Ventures</td>\n",
       "      <td>18,000,000</td>\n",
       "      <td>18,000,000</td>\n",
       "    </tr>\n",
       "    <tr>\n",
       "      <th>20</th>\n",
       "      <td>Date (dd/mm/yyyy)</td>\n",
       "      <td>Startup Name</td>\n",
       "      <td>Industry / Vertical</td>\n",
       "      <td>Sub-Vertical</td>\n",
       "      <td>City / Location</td>\n",
       "      <td>Investors' Name</td>\n",
       "      <td>Amount (In USD)</td>\n",
       "      <td>Amount (In USD)</td>\n",
       "    </tr>\n",
       "    <tr>\n",
       "      <th>21</th>\n",
       "      <td></td>\n",
       "      <td></td>\n",
       "      <td></td>\n",
       "      <td></td>\n",
       "      <td></td>\n",
       "      <td></td>\n",
       "      <td></td>\n",
       "      <td></td>\n",
       "    </tr>\n",
       "    <tr>\n",
       "      <th>22</th>\n",
       "      <td>15/01/2021</td>\n",
       "      <td>Digit Insurance</td>\n",
       "      <td>Financial Services</td>\n",
       "      <td>Insurance Services</td>\n",
       "      <td>Bengaluru</td>\n",
       "      <td>A91 Partners, Faering Capital, TVS Capital Funds</td>\n",
       "      <td>1,80,00,000</td>\n",
       "      <td>1,80,00,000</td>\n",
       "    </tr>\n",
       "    <tr>\n",
       "      <th>23</th>\n",
       "      <td>28/01/2021</td>\n",
       "      <td>Bombay Shaving Company</td>\n",
       "      <td>Consumer Goods Company</td>\n",
       "      <td>Shave care, beard care, and skincare products</td>\n",
       "      <td>New Delhi</td>\n",
       "      <td>Reckitt Benckiser</td>\n",
       "      <td>6,172,258.50</td>\n",
       "      <td>6,172,258.50</td>\n",
       "    </tr>\n",
       "    <tr>\n",
       "      <th>24</th>\n",
       "      <td>19/01/2021</td>\n",
       "      <td>DeHaat</td>\n",
       "      <td>AgriTech Startup</td>\n",
       "      <td>online marketplace for farm products and services</td>\n",
       "      <td>Patna</td>\n",
       "      <td>Prosus Ventures</td>\n",
       "      <td>30,000,000</td>\n",
       "      <td>30,000,000</td>\n",
       "    </tr>\n",
       "    <tr>\n",
       "      <th>25</th>\n",
       "      <td>19/01/2021</td>\n",
       "      <td>Darwinbox</td>\n",
       "      <td>SaaS</td>\n",
       "      <td>HR Tech</td>\n",
       "      <td>Mumbai</td>\n",
       "      <td>Salesforce Ventures</td>\n",
       "      <td>15,000,000</td>\n",
       "      <td>15,000,000</td>\n",
       "    </tr>\n",
       "    <tr>\n",
       "      <th>26</th>\n",
       "      <td>18/01/2021</td>\n",
       "      <td>mfine</td>\n",
       "      <td>Health Tech Startup</td>\n",
       "      <td>AI-powered telemedicine mobile app</td>\n",
       "      <td>Bengaluru</td>\n",
       "      <td>Heritas Capital Management</td>\n",
       "      <td>16,000,000</td>\n",
       "      <td>16,000,000</td>\n",
       "    </tr>\n",
       "    <tr>\n",
       "      <th>27</th>\n",
       "      <td>18/01/2021</td>\n",
       "      <td>Udayy</td>\n",
       "      <td>EdTech</td>\n",
       "      <td>Online learning platform for kids in class 1-5</td>\n",
       "      <td>Gurgaon</td>\n",
       "      <td>Sequoia Capital</td>\n",
       "      <td>15,000,000</td>\n",
       "      <td>15,000,000</td>\n",
       "    </tr>\n",
       "    <tr>\n",
       "      <th>28</th>\n",
       "      <td>11/01/2021</td>\n",
       "      <td>True Elements</td>\n",
       "      <td>Food Startup</td>\n",
       "      <td>Whole Food plant based Nashta</td>\n",
       "      <td>Pune</td>\n",
       "      <td>SIDBI Venture Capital</td>\n",
       "      <td>100,000,000</td>\n",
       "      <td>100,000,000</td>\n",
       "    </tr>\n",
       "    <tr>\n",
       "      <th>29</th>\n",
       "      <td>13/01/2021</td>\n",
       "      <td>Saveo</td>\n",
       "      <td>B2B E-commerce</td>\n",
       "      <td>Pharmacies</td>\n",
       "      <td>Bengaluru</td>\n",
       "      <td>Matrix Partners India, RTP Global, others</td>\n",
       "      <td>4,000,000</td>\n",
       "      <td>4,000,000</td>\n",
       "    </tr>\n",
       "    <tr>\n",
       "      <th>30</th>\n",
       "      <td>Date (dd/mm/yyyy)</td>\n",
       "      <td>Startup Name</td>\n",
       "      <td>Industry / Vertical</td>\n",
       "      <td>Sub-Vertical</td>\n",
       "      <td>City / Location</td>\n",
       "      <td>Investors' Name</td>\n",
       "      <td>Amount (In USD)</td>\n",
       "      <td>Amount (In USD)</td>\n",
       "    </tr>\n",
       "    <tr>\n",
       "      <th>31</th>\n",
       "      <td></td>\n",
       "      <td></td>\n",
       "      <td></td>\n",
       "      <td></td>\n",
       "      <td></td>\n",
       "      <td></td>\n",
       "      <td></td>\n",
       "      <td></td>\n",
       "    </tr>\n",
       "  </tbody>\n",
       "</table>\n",
       "</div>"
      ],
      "text/plain": [
       "                 date            startup name                industry  \\\n",
       "0   Date (dd/mm/yyyy)            Startup Name     Industry / Vertical   \n",
       "1                                                                       \n",
       "2          04/03/2021               DealShare              E-commerce   \n",
       "3          31/03/2021                Uniphore              Technology   \n",
       "4          30/03/2021                   Dunzo              E-commerce   \n",
       "5          30/03/2021                  BYJU’S                Edu-tech   \n",
       "6          23/03/2021             SkilloVilla                Edu-tech   \n",
       "7          25/03/2021                CityMall              E-commerce   \n",
       "8          26/03/2021                   DotPe                 FinTech   \n",
       "9   Date (dd/mm/yyyy)            Startup Name     Industry / Vertical   \n",
       "10                                                                      \n",
       "11         11/02/2021                Doubtnut                Edu Tech   \n",
       "12         22/02/2021                  Zomato             Hospitality   \n",
       "13         19/02/2021               Fingerlix             Hospitality   \n",
       "14         17/02/2021                   Zolve                 FinTech   \n",
       "15         15/02/2021               KreditBee                 Finance   \n",
       "16         12/02/2021               Pepperfry              E-commerce   \n",
       "17         12/02/2021                 Grofers              E-Commerce   \n",
       "18         09/02/2021                 Nothing              Technology   \n",
       "19         09/02/2021             SplashLearn                  EdTech   \n",
       "20  Date (dd/mm/yyyy)            Startup Name     Industry / Vertical   \n",
       "21                                                                      \n",
       "22         15/01/2021         Digit Insurance      Financial Services   \n",
       "23         28/01/2021  Bombay Shaving Company  Consumer Goods Company   \n",
       "24         19/01/2021                  DeHaat        AgriTech Startup   \n",
       "25         19/01/2021               Darwinbox                    SaaS   \n",
       "26         18/01/2021                   mfine     Health Tech Startup   \n",
       "27         18/01/2021                   Udayy                  EdTech   \n",
       "28         11/01/2021           True Elements            Food Startup   \n",
       "29         13/01/2021                   Saveo          B2B E-commerce   \n",
       "30  Date (dd/mm/yyyy)            Startup Name     Industry / Vertical   \n",
       "31                                                                      \n",
       "\n",
       "                                         sub vertical          city nmae  \\\n",
       "0                                        Sub-Vertical    City / Location   \n",
       "1                                                                          \n",
       "2                            Online shopping platform  Jaipur, Rajasthan   \n",
       "3             Conversational Service Automation (CSA)          Palo Alto   \n",
       "4                            Hyper-local delivery app          Bengaluru   \n",
       "5                                     Online tutoring          Bengaluru   \n",
       "6                 Career and job-oriented upskilling.          Bengaluru   \n",
       "7        Social ecommerce and online grocery platform            Gurgaon   \n",
       "8   Commerce and payments platform to offline ente...            Gurgaon   \n",
       "9                                        Sub-Vertical    City / Location   \n",
       "10                                                                         \n",
       "11                                E-Learning Platform            Gurgaon   \n",
       "12                      Online Food Delivery Platform            Gurgaon   \n",
       "13                      Semi-cooked food delivery app             Mumbai   \n",
       "14                             Global Neobank Venture             Mumbai   \n",
       "15                           Digital lending platform          Bengaluru   \n",
       "16                        Multi-brand furniture brand             Mumbai   \n",
       "17                                 Online supermarket            Gurgaon   \n",
       "18                        Consumer Technology Venture             London   \n",
       "19                      Game-based learning programme            Gurgaon   \n",
       "20                                       Sub-Vertical    City / Location   \n",
       "21                                                                         \n",
       "22                                 Insurance Services          Bengaluru   \n",
       "23      Shave care, beard care, and skincare products          New Delhi   \n",
       "24  online marketplace for farm products and services              Patna   \n",
       "25                                            HR Tech             Mumbai   \n",
       "26                 AI-powered telemedicine mobile app          Bengaluru   \n",
       "27     Online learning platform for kids in class 1-5            Gurgaon   \n",
       "28                      Whole Food plant based Nashta               Pune   \n",
       "29                                         Pharmacies          Bengaluru   \n",
       "30                                       Sub-Vertical    City / Location   \n",
       "31                                                                         \n",
       "\n",
       "                                        investor name    investor type  \\\n",
       "0                                     Investors' Name  Amount (In USD)   \n",
       "1                                                                        \n",
       "2                                     Innoven Capital      250,000,000   \n",
       "3                           Sorenson Capital Partners      140,000,000   \n",
       "4                           Krishtal Advisors Pte Ltd        8,000,000   \n",
       "5          MC Global Edtech, B Capital, Baron, others      460,000,000   \n",
       "6                               Titan Capital, others      300,000,000   \n",
       "7                                      Accel Partners       11,000,000   \n",
       "8                                                PayU       27,500,000   \n",
       "9                                     Investors' Name  Amount (In USD)   \n",
       "10                                                                       \n",
       "11  SIG Global, Sequoia Capital, WaterBridge Ventu...        2,500,000   \n",
       "12                                 Tiger Global, Kora      250,000,000   \n",
       "13           Rhodium Trust, Accel Partners and Swiggy     2,747,045.20   \n",
       "14     Accel Partners and Lightspeed Venture Partners      1,50,00,000   \n",
       "15  Azim Premji’s PremjiInvest and South Korea’s M...       75,000,000   \n",
       "16                                    InnoVen Capital        4,773,958   \n",
       "17                         SoftBank Vision Fund (SVF)       55,000,000   \n",
       "18                                                 GV       15,000,000   \n",
       "19                                       Owl Ventures       18,000,000   \n",
       "20                                    Investors' Name  Amount (In USD)   \n",
       "21                                                                       \n",
       "22   A91 Partners, Faering Capital, TVS Capital Funds      1,80,00,000   \n",
       "23                                  Reckitt Benckiser     6,172,258.50   \n",
       "24                                    Prosus Ventures       30,000,000   \n",
       "25                                Salesforce Ventures       15,000,000   \n",
       "26                         Heritas Capital Management       16,000,000   \n",
       "27                                    Sequoia Capital       15,000,000   \n",
       "28                              SIDBI Venture Capital      100,000,000   \n",
       "29          Matrix Partners India, RTP Global, others        4,000,000   \n",
       "30                                    Investors' Name  Amount (In USD)   \n",
       "31                                                                       \n",
       "\n",
       "      amount in USD  \n",
       "0   Amount (In USD)  \n",
       "1                    \n",
       "2       250,000,000  \n",
       "3       140,000,000  \n",
       "4         8,000,000  \n",
       "5       460,000,000  \n",
       "6       300,000,000  \n",
       "7        11,000,000  \n",
       "8        27,500,000  \n",
       "9   Amount (In USD)  \n",
       "10                   \n",
       "11        2,500,000  \n",
       "12      250,000,000  \n",
       "13     2,747,045.20  \n",
       "14      1,50,00,000  \n",
       "15       75,000,000  \n",
       "16        4,773,958  \n",
       "17       55,000,000  \n",
       "18       15,000,000  \n",
       "19       18,000,000  \n",
       "20  Amount (In USD)  \n",
       "21                   \n",
       "22      1,80,00,000  \n",
       "23     6,172,258.50  \n",
       "24       30,000,000  \n",
       "25       15,000,000  \n",
       "26       16,000,000  \n",
       "27       15,000,000  \n",
       "28      100,000,000  \n",
       "29        4,000,000  \n",
       "30  Amount (In USD)  \n",
       "31                   "
      ]
     },
     "execution_count": 69,
     "metadata": {},
     "output_type": "execute_result"
    }
   ],
   "source": [
    "df"
   ]
  },
  {
   "cell_type": "code",
   "execution_count": null,
   "id": "1233d387",
   "metadata": {
    "collapsed": true
   },
   "outputs": [],
   "source": []
  },
  {
   "cell_type": "markdown",
   "id": "db9afbd2",
   "metadata": {},
   "source": [
    "# 7.Write a program to scrap all the available details of best gaming laptops from digit.in¶"
   ]
  },
  {
   "cell_type": "code",
   "execution_count": 451,
   "id": "168beda4",
   "metadata": {
    "collapsed": true
   },
   "outputs": [],
   "source": [
    "driver=webdriver.Chrome(\"chromedriver.exe\")"
   ]
  },
  {
   "cell_type": "code",
   "execution_count": 452,
   "id": "ac395e8e",
   "metadata": {
    "collapsed": true
   },
   "outputs": [],
   "source": [
    "url='https://www.digit.in'\n",
    "driver.get(url)"
   ]
  },
  {
   "cell_type": "code",
   "execution_count": 453,
   "id": "212312f1",
   "metadata": {
    "collapsed": true
   },
   "outputs": [],
   "source": [
    "sleep(5)"
   ]
  },
  {
   "cell_type": "code",
   "execution_count": 454,
   "id": "c65ebb6a",
   "metadata": {
    "collapsed": true
   },
   "outputs": [],
   "source": [
    "Search = driver.find_element_by_class_name(\"search\")\n",
    "Search.click()"
   ]
  },
  {
   "cell_type": "code",
   "execution_count": 455,
   "id": "28a28d50",
   "metadata": {
    "collapsed": true
   },
   "outputs": [],
   "source": [
    "search_itm = driver.find_element_by_xpath('/html/body/div[2]/div[2]/div/div/input')\n",
    "search_itm.send_keys(\"best gaming laptop\")"
   ]
  },
  {
   "cell_type": "code",
   "execution_count": 456,
   "id": "3d3b9d28",
   "metadata": {
    "collapsed": true
   },
   "outputs": [],
   "source": [
    "from selenium.webdriver.common.keys import Keys\n",
    "search_itm.send_keys(Keys.ENTER)"
   ]
  },
  {
   "cell_type": "code",
   "execution_count": 457,
   "id": "a610daae",
   "metadata": {
    "collapsed": true
   },
   "outputs": [],
   "source": [
    "element_list = []\n",
    "  \n",
    "for page in range(1, 10, 1):#webside has 499 pages so we can use range(1,449)\n",
    "    \n",
    "    page_url = \"https://www.digit.in/search/?keyword=best%20gaming%20laptop\" + str(page)\n",
    "    \n",
    "    driver.get(page_url)\n",
    "    title = driver.find_elements_by_class_name(\"searchProduct-desc\")\n",
    "    \n",
    "  \n",
    "    for i in range(len(title)):\n",
    "        element_list.append([title[i].text])\n",
    "  "
   ]
  },
  {
   "cell_type": "code",
   "execution_count": 458,
   "id": "f745798e",
   "metadata": {
    "collapsed": true
   },
   "outputs": [],
   "source": [
    "df=pd.DataFrame()\n",
    "df['products_name']=element_list"
   ]
  },
  {
   "cell_type": "code",
   "execution_count": 459,
   "id": "f0bfcdb8",
   "metadata": {
    "collapsed": true
   },
   "outputs": [
    {
     "data": {
      "text/html": [
       "<div>\n",
       "<style scoped>\n",
       "    .dataframe tbody tr th:only-of-type {\n",
       "        vertical-align: middle;\n",
       "    }\n",
       "\n",
       "    .dataframe tbody tr th {\n",
       "        vertical-align: top;\n",
       "    }\n",
       "\n",
       "    .dataframe thead th {\n",
       "        text-align: right;\n",
       "    }\n",
       "</style>\n",
       "<table border=\"1\" class=\"dataframe\">\n",
       "  <thead>\n",
       "    <tr style=\"text-align: right;\">\n",
       "      <th></th>\n",
       "      <th>products_name</th>\n",
       "    </tr>\n",
       "  </thead>\n",
       "  <tbody>\n",
       "    <tr>\n",
       "      <th>0</th>\n",
       "      <td>[Asus GTX980 Matrix Platinum]</td>\n",
       "    </tr>\n",
       "    <tr>\n",
       "      <th>1</th>\n",
       "      <td>[Sony PlayStation Vita]</td>\n",
       "    </tr>\n",
       "    <tr>\n",
       "      <th>2</th>\n",
       "      <td>[Cooler Master Storm Devastator]</td>\n",
       "    </tr>\n",
       "    <tr>\n",
       "      <th>3</th>\n",
       "      <td>[Asus G750JX-CV069P]</td>\n",
       "    </tr>\n",
       "    <tr>\n",
       "      <th>4</th>\n",
       "      <td>[Asus TUF Gaming FX505]</td>\n",
       "    </tr>\n",
       "  </tbody>\n",
       "</table>\n",
       "</div>"
      ],
      "text/plain": [
       "                      products_name\n",
       "0     [Asus GTX980 Matrix Platinum]\n",
       "1           [Sony PlayStation Vita]\n",
       "2  [Cooler Master Storm Devastator]\n",
       "3              [Asus G750JX-CV069P]\n",
       "4           [Asus TUF Gaming FX505]"
      ]
     },
     "execution_count": 459,
     "metadata": {},
     "output_type": "execute_result"
    }
   ],
   "source": [
    "df.head()"
   ]
  },
  {
   "cell_type": "markdown",
   "id": "a543861a",
   "metadata": {},
   "source": [
    "# 8.Write a python program to scrape the details for all billionaires from www.forbes.com. Details to be\n",
    "scrapped: “Rank”, “Name”, “Net worth”, “Age”, “Citizenship”, “Source”, “Industry”."
   ]
  },
  {
   "cell_type": "code",
   "execution_count": 123,
   "id": "e3bd99c2",
   "metadata": {
    "collapsed": true
   },
   "outputs": [],
   "source": [
    "import pandas as pd\n",
    "import selenium\n",
    "from selenium import webdriver\n",
    "import warnings\n",
    "warnings.filterwarnings(\"ignore\")"
   ]
  },
  {
   "cell_type": "code",
   "execution_count": 124,
   "id": "e24583d4",
   "metadata": {
    "collapsed": true
   },
   "outputs": [],
   "source": [
    "driver=webdriver.Chrome(\"chromedriver.exe\")"
   ]
  },
  {
   "cell_type": "code",
   "execution_count": 125,
   "id": "75d05d44",
   "metadata": {
    "collapsed": true
   },
   "outputs": [],
   "source": [
    "url='https://www.forbes.com'\n",
    "driver.get(url)"
   ]
  },
  {
   "cell_type": "code",
   "execution_count": 126,
   "id": "da8b79f1",
   "metadata": {
    "collapsed": true
   },
   "outputs": [],
   "source": [
    "from time import sleep\n",
    "sleep(10)"
   ]
  },
  {
   "cell_type": "code",
   "execution_count": 127,
   "id": "bfc937cd",
   "metadata": {
    "collapsed": true
   },
   "outputs": [],
   "source": [
    "explore= driver.find_element_by_class_name(\"icon--hamburger\")"
   ]
  },
  {
   "cell_type": "code",
   "execution_count": 128,
   "id": "d352dfdf",
   "metadata": {
    "collapsed": true
   },
   "outputs": [],
   "source": [
    "explore.click()"
   ]
  },
  {
   "cell_type": "code",
   "execution_count": 129,
   "id": "c16835e5",
   "metadata": {
    "collapsed": true
   },
   "outputs": [],
   "source": [
    "bill= driver.find_element_by_xpath(\"/html/body/div[1]/header/nav/div[3]/ul/li[1]\")"
   ]
  },
  {
   "cell_type": "code",
   "execution_count": 130,
   "id": "7ccc5ece",
   "metadata": {
    "collapsed": true
   },
   "outputs": [],
   "source": [
    "bill.click()"
   ]
  },
  {
   "cell_type": "code",
   "execution_count": 131,
   "id": "be3d4ba1",
   "metadata": {
    "collapsed": true
   },
   "outputs": [],
   "source": [
    "world_bill= driver.find_element_by_class_name(\"section__link\")"
   ]
  },
  {
   "cell_type": "code",
   "execution_count": 132,
   "id": "16e1dfe5",
   "metadata": {
    "collapsed": true
   },
   "outputs": [],
   "source": [
    "world_bill.click()"
   ]
  },
  {
   "cell_type": "code",
   "execution_count": 146,
   "id": "a9f5677a",
   "metadata": {
    "collapsed": true
   },
   "outputs": [],
   "source": [
    "\n",
    "name=[]\n",
    "names= driver.find_elements_by_class_name(\"personName\")\n",
    "for i in names:\n",
    "  \n",
    "    name.append(i.text)\n",
    "    \n",
    "\n",
    "    \n",
    "\n",
    "        "
   ]
  },
  {
   "cell_type": "code",
   "execution_count": 147,
   "id": "59056b77",
   "metadata": {
    "collapsed": true
   },
   "outputs": [],
   "source": [
    "NET_WORTH=[]\n",
    "worth= driver.find_elements_by_class_name(\"netWorth\")\n",
    "for i in worth:\n",
    "  \n",
    "        NET_WORTH.append(i.text)"
   ]
  },
  {
   "cell_type": "code",
   "execution_count": 148,
   "id": "9651a3c0",
   "metadata": {
    "collapsed": true
   },
   "outputs": [],
   "source": [
    "COUNTRY_TERRITORY=[]\n",
    "countries= driver.find_elements_by_class_name(\"countryOfCitizenship\")\n",
    "for i in countries:\n",
    "  \n",
    "        COUNTRY_TERRITORY.append(i.text)"
   ]
  },
  {
   "cell_type": "code",
   "execution_count": 149,
   "id": "28d032ef",
   "metadata": {
    "collapsed": true
   },
   "outputs": [],
   "source": [
    "SOURCE=[]\n",
    "company= driver.find_elements_by_class_name(\"source-column\")\n",
    "for i in company:\n",
    "  \n",
    "        SOURCE.append(i.text)"
   ]
  },
  {
   "cell_type": "code",
   "execution_count": 150,
   "id": "bed1ac88",
   "metadata": {
    "collapsed": true
   },
   "outputs": [],
   "source": [
    "INDUSTRY=[]\n",
    "fields= driver.find_elements_by_class_name(\"category\")\n",
    "for i in fields:\n",
    "  \n",
    "        INDUSTRY.append(i.text)\n",
    "\n",
    "   \n",
    "    \n",
    "   "
   ]
  },
  {
   "cell_type": "code",
   "execution_count": 151,
   "id": "5452b1e8",
   "metadata": {
    "collapsed": true
   },
   "outputs": [],
   "source": [
    "df=pd.DataFrame({\n",
    "                'names':name[1:],\n",
    "                'NetWorth':NET_WORTH[1:],'country':COUNTRY_TERRITORY[1:],'company name':SOURCE,'fields':INDUSTRY[1:]})"
   ]
  },
  {
   "cell_type": "code",
   "execution_count": 152,
   "id": "526691fb",
   "metadata": {
    "collapsed": true
   },
   "outputs": [
    {
     "data": {
      "text/html": [
       "<div>\n",
       "<style scoped>\n",
       "    .dataframe tbody tr th:only-of-type {\n",
       "        vertical-align: middle;\n",
       "    }\n",
       "\n",
       "    .dataframe tbody tr th {\n",
       "        vertical-align: top;\n",
       "    }\n",
       "\n",
       "    .dataframe thead th {\n",
       "        text-align: right;\n",
       "    }\n",
       "</style>\n",
       "<table border=\"1\" class=\"dataframe\">\n",
       "  <thead>\n",
       "    <tr style=\"text-align: right;\">\n",
       "      <th></th>\n",
       "      <th>names</th>\n",
       "      <th>NetWorth</th>\n",
       "      <th>country</th>\n",
       "      <th>company name</th>\n",
       "      <th>fields</th>\n",
       "    </tr>\n",
       "  </thead>\n",
       "  <tbody>\n",
       "    <tr>\n",
       "      <th>0</th>\n",
       "      <td>Jeff Bezos</td>\n",
       "      <td>$177 B</td>\n",
       "      <td>United States</td>\n",
       "      <td>Amazon</td>\n",
       "      <td></td>\n",
       "    </tr>\n",
       "    <tr>\n",
       "      <th>1</th>\n",
       "      <td>Elon Musk</td>\n",
       "      <td>$151 B</td>\n",
       "      <td>United States</td>\n",
       "      <td>Tesla, SpaceX</td>\n",
       "      <td></td>\n",
       "    </tr>\n",
       "    <tr>\n",
       "      <th>2</th>\n",
       "      <td>Bernard Arnault &amp; family</td>\n",
       "      <td>$150 B</td>\n",
       "      <td>France</td>\n",
       "      <td>LVMH</td>\n",
       "      <td></td>\n",
       "    </tr>\n",
       "    <tr>\n",
       "      <th>3</th>\n",
       "      <td>Bill Gates</td>\n",
       "      <td>$124 B</td>\n",
       "      <td>United States</td>\n",
       "      <td>Microsoft</td>\n",
       "      <td></td>\n",
       "    </tr>\n",
       "    <tr>\n",
       "      <th>4</th>\n",
       "      <td>Mark Zuckerberg</td>\n",
       "      <td>$97 B</td>\n",
       "      <td>United States</td>\n",
       "      <td>Facebook</td>\n",
       "      <td></td>\n",
       "    </tr>\n",
       "    <tr>\n",
       "      <th>...</th>\n",
       "      <td>...</td>\n",
       "      <td>...</td>\n",
       "      <td>...</td>\n",
       "      <td>...</td>\n",
       "      <td>...</td>\n",
       "    </tr>\n",
       "    <tr>\n",
       "      <th>195</th>\n",
       "      <td>Harry Triguboff</td>\n",
       "      <td>$11.2 B</td>\n",
       "      <td>Australia</td>\n",
       "      <td>real estate</td>\n",
       "      <td></td>\n",
       "    </tr>\n",
       "    <tr>\n",
       "      <th>196</th>\n",
       "      <td>Leonid Fedun</td>\n",
       "      <td>$11.1 B</td>\n",
       "      <td>Russia</td>\n",
       "      <td>oil</td>\n",
       "      <td></td>\n",
       "    </tr>\n",
       "    <tr>\n",
       "      <th>197</th>\n",
       "      <td>Eyal Ofer</td>\n",
       "      <td>$11.1 B</td>\n",
       "      <td>Israel</td>\n",
       "      <td>real estate, shipping</td>\n",
       "      <td></td>\n",
       "    </tr>\n",
       "    <tr>\n",
       "      <th>198</th>\n",
       "      <td>Evan Spiegel</td>\n",
       "      <td>$11.1 B</td>\n",
       "      <td>United States</td>\n",
       "      <td>Snapchat</td>\n",
       "      <td></td>\n",
       "    </tr>\n",
       "    <tr>\n",
       "      <th>199</th>\n",
       "      <td>Luis Carlos Sarmiento</td>\n",
       "      <td>$11 B</td>\n",
       "      <td>Colombia</td>\n",
       "      <td>banking</td>\n",
       "      <td></td>\n",
       "    </tr>\n",
       "  </tbody>\n",
       "</table>\n",
       "<p>200 rows × 5 columns</p>\n",
       "</div>"
      ],
      "text/plain": [
       "                        names NetWorth        country           company name  \\\n",
       "0                  Jeff Bezos   $177 B  United States                 Amazon   \n",
       "1                   Elon Musk   $151 B  United States          Tesla, SpaceX   \n",
       "2    Bernard Arnault & family   $150 B         France                   LVMH   \n",
       "3                  Bill Gates   $124 B  United States              Microsoft   \n",
       "4             Mark Zuckerberg    $97 B  United States               Facebook   \n",
       "..                        ...      ...            ...                    ...   \n",
       "195           Harry Triguboff  $11.2 B      Australia            real estate   \n",
       "196              Leonid Fedun  $11.1 B         Russia                    oil   \n",
       "197                 Eyal Ofer  $11.1 B         Israel  real estate, shipping   \n",
       "198              Evan Spiegel  $11.1 B  United States               Snapchat   \n",
       "199     Luis Carlos Sarmiento    $11 B       Colombia                banking   \n",
       "\n",
       "    fields  \n",
       "0           \n",
       "1           \n",
       "2           \n",
       "3           \n",
       "4           \n",
       "..     ...  \n",
       "195         \n",
       "196         \n",
       "197         \n",
       "198         \n",
       "199         \n",
       "\n",
       "[200 rows x 5 columns]"
      ]
     },
     "execution_count": 152,
     "metadata": {},
     "output_type": "execute_result"
    }
   ],
   "source": [
    "df"
   ]
  },
  {
   "cell_type": "markdown",
   "id": "440ab230",
   "metadata": {},
   "source": [
    "# 9.Write a program to extract at least 500 Comments, Comment upvote and time when comment was posted\n",
    "from any YouTube Video"
   ]
  },
  {
   "cell_type": "code",
   "execution_count": 203,
   "id": "1a63c462",
   "metadata": {
    "collapsed": true
   },
   "outputs": [],
   "source": [
    "driver=webdriver.Chrome(\"chromedriver.exe\")"
   ]
  },
  {
   "cell_type": "code",
   "execution_count": 204,
   "id": "bdf98c0d",
   "metadata": {
    "collapsed": true
   },
   "outputs": [],
   "source": [
    "url='https://www.YouTube.com'\n",
    "driver.get(url)"
   ]
  },
  {
   "cell_type": "code",
   "execution_count": 205,
   "id": "01cda7fc",
   "metadata": {
    "collapsed": true
   },
   "outputs": [],
   "source": [
    "\n",
    "sleep(10)"
   ]
  },
  {
   "cell_type": "code",
   "execution_count": 206,
   "id": "9e754540",
   "metadata": {
    "collapsed": true
   },
   "outputs": [],
   "source": [
    "search_video=driver.find_element_by_xpath(\"/html/body/ytd-app/div[1]/div/ytd-masthead/div[3]/div[2]/ytd-searchbox/form/div[1]/div[1]/input\") \n",
    "#search_video.send_keys(\"video\")"
   ]
  },
  {
   "cell_type": "code",
   "execution_count": 207,
   "id": "026a7dbc",
   "metadata": {
    "collapsed": true
   },
   "outputs": [],
   "source": [
    "search_video.send_keys(\"video SONG\")"
   ]
  },
  {
   "cell_type": "code",
   "execution_count": 208,
   "id": "467c84b3",
   "metadata": {
    "collapsed": true
   },
   "outputs": [],
   "source": [
    "search_button=driver.find_element_by_xpath(\"/html/body/ytd-app/div[1]/div/ytd-masthead/div[3]/div[2]/ytd-searchbox/button/yt-icon\")"
   ]
  },
  {
   "cell_type": "code",
   "execution_count": 209,
   "id": "b8fdf561",
   "metadata": {
    "collapsed": true
   },
   "outputs": [],
   "source": [
    "search_button.click()"
   ]
  },
  {
   "cell_type": "code",
   "execution_count": 221,
   "id": "cf660138",
   "metadata": {
    "collapsed": true
   },
   "outputs": [],
   "source": [
    "song=driver.find_element_by_class_name(\"style-scope ytd-video-primary-info-renderer\")"
   ]
  },
  {
   "cell_type": "code",
   "execution_count": 222,
   "id": "2775b7e8",
   "metadata": {
    "collapsed": true
   },
   "outputs": [],
   "source": [
    "song.click()"
   ]
  },
  {
   "cell_type": "code",
   "execution_count": 227,
   "id": "81e86bd3",
   "metadata": {
    "collapsed": true
   },
   "outputs": [],
   "source": [
    "comm=[]\n",
    "comments=driver.find_elements_by_class_name(\"style-scope ytd-comment-renderer\")\n",
    "for i in comments:\n",
    "    comm.append(i.text)\n",
    "    "
   ]
  },
  {
   "cell_type": "code",
   "execution_count": 228,
   "id": "1cead41d",
   "metadata": {
    "collapsed": true
   },
   "outputs": [
    {
     "data": {
      "text/plain": [
       "['Vikas Singh\\n2 years ago\\nThis is wat we can call HEART TOUCHING...Love this voice...😘\\n45\\nREPLY',\n",
       " 'Kisu Chauhan\\n10 months ago\\nWe fall in love by watching this movie and after 5 years we got married and we still together ❤💗♥💕\\nWe love this movie\\n359\\nREPLY',\n",
       " \"Kundan Singh\\n9 months ago\\nWhenever I heard this song's movie\\nMy heart is melted ❤️\\n66\\nREPLY\",\n",
       " 'Swoham Bhattarai\\n11 months ago\\nAfter Class 10 forget all the learnings but songs are unforgettable. You never know when a song is going to strike your mind and you start to sing it sub consciously.\\n253\\nREPLY',\n",
       " 'Ericka Rodríguez\\n1 year ago\\nIm sooooo in love with these songs, they bring me back a lot of memories; what’s sad is that I haven’t been able to see the movie even after all these years cries in Spanish\\nGreetings from México 🇲🇽\\n169\\nREPLY',\n",
       " 'free fire noobs\\n9 months ago\\nStill a masterpiece ❤️❤️❤️❤️\\n96\\nREPLY',\n",
       " 'anonymous\\n2 years ago\\nEvergreen ❤️ Aashique 2 has special place in my heart nothing can replace it!\\n56\\nREPLY',\n",
       " 'Yasoda Namala\\n1 year ago\\nThese movie is so sad though it has so much meaning and emotion in it.. the songs are just phonomoneal I wish to sing like them one day!\\n152\\nREPLY',\n",
       " 'Indian Tech Vines\\n1 year ago\\nThis movie has another fanbase❤️🙂\\n36\\nREPLY',\n",
       " 'htotube\\n10 months ago\\nThis movie portrayed the realities of love and challenges so well and the songs too voiced the hardships and small beautiful moments in love.\\nSee you in 2030 friends 😊😊😊😊\\n22\\nREPLY']"
      ]
     },
     "execution_count": 228,
     "metadata": {},
     "output_type": "execute_result"
    }
   ],
   "source": [
    "comm[0:10]"
   ]
  },
  {
   "cell_type": "markdown",
   "id": "3b3fd344",
   "metadata": {},
   "source": [
    "# 10.Write a python program to scrape a data for all available Hostels from https://www.hostelworld.com/ in\n",
    "“London” location. You have to scrape hostel name, distance from city centre, ratings, total reviews,\n",
    "overall reviews, privates from price, dorms from price, facilities and property description."
   ]
  },
  {
   "cell_type": "code",
   "execution_count": 253,
   "id": "5aa6aac9",
   "metadata": {
    "collapsed": true
   },
   "outputs": [],
   "source": [
    "driver=webdriver.Chrome(\"chromedriver.exe\")"
   ]
  },
  {
   "cell_type": "code",
   "execution_count": 254,
   "id": "26fa50d0",
   "metadata": {
    "collapsed": true
   },
   "outputs": [],
   "source": [
    "url='https://www.hostelworld.com'\n",
    "driver.get(url)"
   ]
  },
  {
   "cell_type": "code",
   "execution_count": 265,
   "id": "4934407b",
   "metadata": {
    "collapsed": true
   },
   "outputs": [],
   "source": [
    "search_location=driver.find_element_by_xpath(\"//*[@id='search-input-field']\")"
   ]
  },
  {
   "cell_type": "code",
   "execution_count": 266,
   "id": "0785108a",
   "metadata": {
    "collapsed": true
   },
   "outputs": [],
   "source": [
    "search_location.send_keys(\"London\")"
   ]
  },
  {
   "cell_type": "code",
   "execution_count": 267,
   "id": "5c5faabc",
   "metadata": {
    "collapsed": true
   },
   "outputs": [],
   "source": [
    "city=driver.find_element_by_xpath(\"/html/body/div[3]/div/div/div[1]/div[2]/div/div[2]/div[4]/div/div[2]/div/div[1]/div/div/ul/li[2]/div\")"
   ]
  },
  {
   "cell_type": "code",
   "execution_count": 268,
   "id": "3ccf5015",
   "metadata": {
    "collapsed": true
   },
   "outputs": [],
   "source": [
    "city.click()"
   ]
  },
  {
   "cell_type": "code",
   "execution_count": 250,
   "id": "8eec47c6",
   "metadata": {
    "collapsed": true
   },
   "outputs": [],
   "source": [
    "#from selenium.webdriver.common.keys import Keys\n",
    "#search_location.send_keys(Keys.ENTER)"
   ]
  },
  {
   "cell_type": "code",
   "execution_count": 269,
   "id": "8e2c5035",
   "metadata": {
    "collapsed": true
   },
   "outputs": [],
   "source": [
    "letsgo=driver.find_element_by_xpath(\"/html/body/div[3]/div/div/div[1]/div[2]/div/div[2]/div[4]/div/div[2]/div/div[5]/button\")"
   ]
  },
  {
   "cell_type": "code",
   "execution_count": 270,
   "id": "053d892e",
   "metadata": {
    "collapsed": true
   },
   "outputs": [],
   "source": [
    "letsgo.click()"
   ]
  },
  {
   "cell_type": "code",
   "execution_count": null,
   "id": "f0dd597e",
   "metadata": {
    "collapsed": true
   },
   "outputs": [],
   "source": []
  },
  {
   "cell_type": "code",
   "execution_count": 395,
   "id": "8f8cdf5b",
   "metadata": {
    "collapsed": true
   },
   "outputs": [],
   "source": [
    "hname=[]\n",
    "distance=[]\n",
    "rating=[]\n",
    "reviews=[]\n",
    "treviews=[]\n",
    "prop=[]\n",
    "price=[]\n",
    "\n",
    "\n",
    "#time.sleep(3)\n",
    "\n",
    "#scrapping the required details\n",
    "start=0\n",
    "end=3\n",
    "for page in range(start,end):#for loop for scrapping 4 page\n",
    "    hostels=driver.find_elements_by_tag_name(\"h2\")#scraping  name by tag name='h2'\n",
    "    for i in hostels:\n",
    "        hname.append(i.text)  #appending the text in hname list\n",
    "    dist=driver.find_elements_by_class_name(\"description\")# scraping the hname from the class\n",
    "    for i in dist:\n",
    "        distance.append(i.text)\n",
    "    rats=driver.find_elements_by_class_name(\"bottom-rating\")# scraping the rating from the class name\n",
    "    for i in rats:\n",
    "        rating.append(i.text.split()[0])\n",
    "    rev=driver.find_elements_by_class_name(\"keyword\")# scraping the rev from the class name\n",
    "    for i in rev:\n",
    "        reviews.append(i.text)\n",
    "    trev=driver.find_elements_by_class_name(\"reviews\")\n",
    "    for i in trev:\n",
    "        treviews.append(i.text)\n",
    "    pro=driver.find_elements_by_class_name(\"property\")\n",
    "    for i in pro:\n",
    "        prop.append(i.text)\n",
    "    pr=driver.find_elements_by_class_name(\"prices\")\n",
    "    for i in pr:\n",
    "        price.append(i.text)     "
   ]
  },
  {
   "cell_type": "code",
   "execution_count": 417,
   "id": "d1377402",
   "metadata": {
    "collapsed": true
   },
   "outputs": [
    {
     "data": {
      "text/html": [
       "<div>\n",
       "<style scoped>\n",
       "    .dataframe tbody tr th:only-of-type {\n",
       "        vertical-align: middle;\n",
       "    }\n",
       "\n",
       "    .dataframe tbody tr th {\n",
       "        vertical-align: top;\n",
       "    }\n",
       "\n",
       "    .dataframe thead th {\n",
       "        text-align: right;\n",
       "    }\n",
       "</style>\n",
       "<table border=\"1\" class=\"dataframe\">\n",
       "  <thead>\n",
       "    <tr style=\"text-align: right;\">\n",
       "      <th></th>\n",
       "      <th>hostel name</th>\n",
       "      <th>distance from city center</th>\n",
       "      <th>ratings</th>\n",
       "      <th>reviews</th>\n",
       "      <th>totall reviews</th>\n",
       "      <th>property details</th>\n",
       "      <th>price</th>\n",
       "    </tr>\n",
       "  </thead>\n",
       "  <tbody>\n",
       "    <tr>\n",
       "      <th>0</th>\n",
       "      <td>St Christopher's Village</td>\n",
       "      <td>Hostel - 1.8km from city centre</td>\n",
       "      <td>8.0</td>\n",
       "      <td>Fabulous</td>\n",
       "      <td>11062 Total Reviews</td>\n",
       "      <td>From Rs1196</td>\n",
       "      <td>From Rs1196</td>\n",
       "    </tr>\n",
       "    <tr>\n",
       "      <th>1</th>\n",
       "      <td>St Christopher's Village</td>\n",
       "      <td>Hostel - 1.7km from city centre</td>\n",
       "      <td>7.7</td>\n",
       "      <td>Fabulous</td>\n",
       "      <td>4110 Total Reviews</td>\n",
       "      <td>No Privates Available\\nDorms From\\nRs1328.72 R...</td>\n",
       "      <td>No Privates Available\\nDorms From\\nRs1328.72 R...</td>\n",
       "    </tr>\n",
       "    <tr>\n",
       "      <th>2</th>\n",
       "      <td>Safestay London Elephant &amp; Castle</td>\n",
       "      <td>Hostel - 3km from city centre</td>\n",
       "      <td>7.8</td>\n",
       "      <td>Very Good</td>\n",
       "      <td>6844 Total Reviews</td>\n",
       "      <td>Privates From\\nRs7241\\nDorms From\\nRs1810</td>\n",
       "      <td>Privates From\\nRs7241\\nDorms From\\nRs1810</td>\n",
       "    </tr>\n",
       "    <tr>\n",
       "      <th>3</th>\n",
       "      <td>Generator London</td>\n",
       "      <td>Hostel - 4.4km from city centre</td>\n",
       "      <td>8.5</td>\n",
       "      <td>Very Good</td>\n",
       "      <td>2772 Total Reviews</td>\n",
       "      <td>Privates From\\nRs5820\\nDorms From\\nRs2244</td>\n",
       "      <td>Privates From\\nRs5820\\nDorms From\\nRs2244</td>\n",
       "    </tr>\n",
       "    <tr>\n",
       "      <th>4</th>\n",
       "      <td>Smart Camden Inn Hostel</td>\n",
       "      <td>Hostel - 4.3km from city centre</td>\n",
       "      <td>8.5</td>\n",
       "      <td>Fabulous</td>\n",
       "      <td>11413 Total Reviews</td>\n",
       "      <td>Privates From\\nRs6958\\nDorms From\\nRs1548</td>\n",
       "      <td>Privates From\\nRs6958\\nDorms From\\nRs1548</td>\n",
       "    </tr>\n",
       "    <tr>\n",
       "      <th>...</th>\n",
       "      <td>...</td>\n",
       "      <td>...</td>\n",
       "      <td>...</td>\n",
       "      <td>...</td>\n",
       "      <td>...</td>\n",
       "      <td>...</td>\n",
       "      <td>...</td>\n",
       "    </tr>\n",
       "    <tr>\n",
       "      <th>85</th>\n",
       "      <td>St Christopher's Hammersmith</td>\n",
       "      <td>Hostel - 3.2km from city centre</td>\n",
       "      <td>8.6</td>\n",
       "      <td>Very Good</td>\n",
       "      <td>384 Total Reviews</td>\n",
       "      <td>No Privates Available\\nDorms From\\nRs1172.27 R...</td>\n",
       "      <td>No Privates Available\\nDorms From\\nRs1172.27 R...</td>\n",
       "    </tr>\n",
       "    <tr>\n",
       "      <th>86</th>\n",
       "      <td>The Dictionary Hostel</td>\n",
       "      <td>Hostel - 3.2km from city centre</td>\n",
       "      <td>7.4</td>\n",
       "      <td>Very Good</td>\n",
       "      <td>59 Total Reviews</td>\n",
       "      <td>No Privates Available\\nDorms From\\nRs1764.92 R...</td>\n",
       "      <td>No Privates Available\\nDorms From\\nRs1764.92 R...</td>\n",
       "    </tr>\n",
       "    <tr>\n",
       "      <th>87</th>\n",
       "      <td>PubLove @ The White Ferry, Victoria</td>\n",
       "      <td>Hostel - 4.3km from city centre</td>\n",
       "      <td>7.7</td>\n",
       "      <td>Fabulous</td>\n",
       "      <td>3747 Total Reviews</td>\n",
       "      <td>No Privates Available\\nDorms From\\nRs1810</td>\n",
       "      <td>No Privates Available\\nDorms From\\nRs1810</td>\n",
       "    </tr>\n",
       "    <tr>\n",
       "      <th>88</th>\n",
       "      <td>St Christopher's Inn - Liverpool Street</td>\n",
       "      <td>Hostel - 7km from city centre</td>\n",
       "      <td>7.7</td>\n",
       "      <td>Fabulous</td>\n",
       "      <td>651 Total Reviews</td>\n",
       "      <td>No Privates Available\\nDorms From\\nRs2296.49 R...</td>\n",
       "      <td>No Privates Available\\nDorms From\\nRs2296.49 R...</td>\n",
       "    </tr>\n",
       "    <tr>\n",
       "      <th>89</th>\n",
       "      <td>Clink261</td>\n",
       "      <td>Hostel - 0.5km from city centre</td>\n",
       "      <td>7.8</td>\n",
       "      <td>Very Good</td>\n",
       "      <td>245 Total Reviews</td>\n",
       "      <td>Privates From\\nRs8047.57 Rs7243\\nDorms From\\nR...</td>\n",
       "      <td>Privates From\\nRs8047.57 Rs7243\\nDorms From\\nR...</td>\n",
       "    </tr>\n",
       "  </tbody>\n",
       "</table>\n",
       "<p>90 rows × 7 columns</p>\n",
       "</div>"
      ],
      "text/plain": [
       "                                hostel name        distance from city center  \\\n",
       "0                  St Christopher's Village  Hostel - 1.8km from city centre   \n",
       "1                  St Christopher's Village  Hostel - 1.7km from city centre   \n",
       "2         Safestay London Elephant & Castle    Hostel - 3km from city centre   \n",
       "3                          Generator London  Hostel - 4.4km from city centre   \n",
       "4                   Smart Camden Inn Hostel  Hostel - 4.3km from city centre   \n",
       "..                                      ...                              ...   \n",
       "85             St Christopher's Hammersmith  Hostel - 3.2km from city centre   \n",
       "86                    The Dictionary Hostel  Hostel - 3.2km from city centre   \n",
       "87      PubLove @ The White Ferry, Victoria  Hostel - 4.3km from city centre   \n",
       "88  St Christopher's Inn - Liverpool Street    Hostel - 7km from city centre   \n",
       "89                                 Clink261  Hostel - 0.5km from city centre   \n",
       "\n",
       "   ratings    reviews       totall reviews  \\\n",
       "0      8.0   Fabulous  11062 Total Reviews   \n",
       "1      7.7   Fabulous   4110 Total Reviews   \n",
       "2      7.8  Very Good   6844 Total Reviews   \n",
       "3      8.5  Very Good   2772 Total Reviews   \n",
       "4      8.5   Fabulous  11413 Total Reviews   \n",
       "..     ...        ...                  ...   \n",
       "85     8.6  Very Good    384 Total Reviews   \n",
       "86     7.4  Very Good     59 Total Reviews   \n",
       "87     7.7   Fabulous   3747 Total Reviews   \n",
       "88     7.7   Fabulous    651 Total Reviews   \n",
       "89     7.8  Very Good    245 Total Reviews   \n",
       "\n",
       "                                     property details  \\\n",
       "0                                         From Rs1196   \n",
       "1   No Privates Available\\nDorms From\\nRs1328.72 R...   \n",
       "2           Privates From\\nRs7241\\nDorms From\\nRs1810   \n",
       "3           Privates From\\nRs5820\\nDorms From\\nRs2244   \n",
       "4           Privates From\\nRs6958\\nDorms From\\nRs1548   \n",
       "..                                                ...   \n",
       "85  No Privates Available\\nDorms From\\nRs1172.27 R...   \n",
       "86  No Privates Available\\nDorms From\\nRs1764.92 R...   \n",
       "87          No Privates Available\\nDorms From\\nRs1810   \n",
       "88  No Privates Available\\nDorms From\\nRs2296.49 R...   \n",
       "89  Privates From\\nRs8047.57 Rs7243\\nDorms From\\nR...   \n",
       "\n",
       "                                                price  \n",
       "0                                         From Rs1196  \n",
       "1   No Privates Available\\nDorms From\\nRs1328.72 R...  \n",
       "2           Privates From\\nRs7241\\nDorms From\\nRs1810  \n",
       "3           Privates From\\nRs5820\\nDorms From\\nRs2244  \n",
       "4           Privates From\\nRs6958\\nDorms From\\nRs1548  \n",
       "..                                                ...  \n",
       "85  No Privates Available\\nDorms From\\nRs1172.27 R...  \n",
       "86  No Privates Available\\nDorms From\\nRs1764.92 R...  \n",
       "87          No Privates Available\\nDorms From\\nRs1810  \n",
       "88  No Privates Available\\nDorms From\\nRs2296.49 R...  \n",
       "89  Privates From\\nRs8047.57 Rs7243\\nDorms From\\nR...  \n",
       "\n",
       "[90 rows x 7 columns]"
      ]
     },
     "execution_count": 417,
     "metadata": {},
     "output_type": "execute_result"
    }
   ],
   "source": [
    "#creating a dataframe\n",
    "df=pd.DataFrame({'hostel name':hname[:90],\n",
    "                'distance from city center':distance[:90],\n",
    "                'ratings':rating[:90],\n",
    "                'reviews':reviews[:90],\n",
    "                'totall reviews':treviews[:90],\n",
    "                'property details':pro[:90],\n",
    "                'price':price})\n",
    "#printing dataframe\n",
    "df"
   ]
  },
  {
   "cell_type": "code",
   "execution_count": 412,
   "id": "a04aa3ad",
   "metadata": {
    "collapsed": true
   },
   "outputs": [],
   "source": [
    "del price[90:95]\n",
    "del hname[90:95]\n",
    "del reviews[90:95]\n",
    "del prop[90:95]\n"
   ]
  },
  {
   "cell_type": "code",
   "execution_count": null,
   "id": "8a451847",
   "metadata": {
    "collapsed": true
   },
   "outputs": [],
   "source": []
  }
 ],
 "metadata": {
  "kernelspec": {
   "display_name": "Python 3 (ipykernel)",
   "language": "python",
   "name": "python3"
  },
  "language_info": {
   "codemirror_mode": {
    "name": "ipython",
    "version": 3
   },
   "file_extension": ".py",
   "mimetype": "text/x-python",
   "name": "python",
   "nbconvert_exporter": "python",
   "pygments_lexer": "ipython3",
   "version": "3.9.7"
  }
 },
 "nbformat": 4,
 "nbformat_minor": 5
}
